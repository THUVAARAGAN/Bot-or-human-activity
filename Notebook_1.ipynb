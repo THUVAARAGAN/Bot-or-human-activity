{
  "nbformat": 4,
  "nbformat_minor": 0,
  "metadata": {
    "colab": {
      "provenance": []
    },
    "kernelspec": {
      "name": "python3",
      "display_name": "Python 3"
    },
    "language_info": {
      "name": "python"
    }
  },
  "cells": [
    {
      "cell_type": "code",
      "execution_count": 5,
      "metadata": {
        "colab": {
          "base_uri": "https://localhost:8080/"
        },
        "id": "yIgIINdAr65q",
        "outputId": "4ad2dc67-8a91-4eee-b825-160099765307"
      },
      "outputs": [
        {
          "output_type": "stream",
          "name": "stdout",
          "text": [
            "Mounted at /content/drive\n"
          ]
        }
      ],
      "source": [
        "from google.colab import drive\n",
        "drive.mount('/content/drive')"
      ]
    },
    {
      "cell_type": "code",
      "source": [
        "import pandas as pd\n",
        "import numpy as np\n",
        "import matplotlib.pyplot as plt"
      ],
      "metadata": {
        "id": "XmYIU2dHsG9v"
      },
      "execution_count": 1,
      "outputs": []
    },
    {
      "cell_type": "code",
      "source": [
        "pd.set_option('display.max_rows', None)"
      ],
      "metadata": {
        "id": "n_fH3TiE4LFf"
      },
      "execution_count": 2,
      "outputs": []
    },
    {
      "cell_type": "code",
      "source": [
        "pd.set_option('display.max_columns', 500)"
      ],
      "metadata": {
        "id": "a8fDgHev0P8p"
      },
      "execution_count": 3,
      "outputs": []
    },
    {
      "cell_type": "code",
      "source": [
        "df = pd.read_parquet(\"/content/drive/MyDrive/datathon - final/full_data.parquet\")"
      ],
      "metadata": {
        "id": "MOkwku1vsb3s"
      },
      "execution_count": 6,
      "outputs": []
    },
    {
      "cell_type": "code",
      "source": [
        "df.head()"
      ],
      "metadata": {
        "colab": {
          "base_uri": "https://localhost:8080/",
          "height": 206
        },
        "id": "B-Oqn0XUsbvy",
        "outputId": "36c97fbc-a9ea-41af-e7e5-1a3a21e99dd8"
      },
      "execution_count": 7,
      "outputs": [
        {
          "output_type": "execute_result",
          "data": {
            "text/plain": [
              "   event_id  session_id transaction_date event_type_id  product_id  \\\n",
              "0         0  3507032552       2020-08-20             4    63795519   \n",
              "1         1  3506994387       2020-08-20             5   193402914   \n",
              "2         2  3507038875       2020-08-20             5   202835637   \n",
              "3         3  3507038876       2020-08-20             7    63109557   \n",
              "4         4  3507036177       2020-08-20             4    69817018   \n",
              "\n",
              "   title_product_id country_code_id       ip_address auth_session_id  \n",
              "0          63077424             162  238.108.111.146      2668673246  \n",
              "1          63110659             148    32.129.93.188      2668641289  \n",
              "2          63108769             517   222.60.132.210      2668676616  \n",
              "3          63109558             351     22.28.25.247      2668676617  \n",
              "4          63129191             162  138.169.123.254      2668677577  "
            ],
            "text/html": [
              "\n",
              "  <div id=\"df-93405c55-1e17-4092-8509-3333bc31de65\">\n",
              "    <div class=\"colab-df-container\">\n",
              "      <div>\n",
              "<style scoped>\n",
              "    .dataframe tbody tr th:only-of-type {\n",
              "        vertical-align: middle;\n",
              "    }\n",
              "\n",
              "    .dataframe tbody tr th {\n",
              "        vertical-align: top;\n",
              "    }\n",
              "\n",
              "    .dataframe thead th {\n",
              "        text-align: right;\n",
              "    }\n",
              "</style>\n",
              "<table border=\"1\" class=\"dataframe\">\n",
              "  <thead>\n",
              "    <tr style=\"text-align: right;\">\n",
              "      <th></th>\n",
              "      <th>event_id</th>\n",
              "      <th>session_id</th>\n",
              "      <th>transaction_date</th>\n",
              "      <th>event_type_id</th>\n",
              "      <th>product_id</th>\n",
              "      <th>title_product_id</th>\n",
              "      <th>country_code_id</th>\n",
              "      <th>ip_address</th>\n",
              "      <th>auth_session_id</th>\n",
              "    </tr>\n",
              "  </thead>\n",
              "  <tbody>\n",
              "    <tr>\n",
              "      <th>0</th>\n",
              "      <td>0</td>\n",
              "      <td>3507032552</td>\n",
              "      <td>2020-08-20</td>\n",
              "      <td>4</td>\n",
              "      <td>63795519</td>\n",
              "      <td>63077424</td>\n",
              "      <td>162</td>\n",
              "      <td>238.108.111.146</td>\n",
              "      <td>2668673246</td>\n",
              "    </tr>\n",
              "    <tr>\n",
              "      <th>1</th>\n",
              "      <td>1</td>\n",
              "      <td>3506994387</td>\n",
              "      <td>2020-08-20</td>\n",
              "      <td>5</td>\n",
              "      <td>193402914</td>\n",
              "      <td>63110659</td>\n",
              "      <td>148</td>\n",
              "      <td>32.129.93.188</td>\n",
              "      <td>2668641289</td>\n",
              "    </tr>\n",
              "    <tr>\n",
              "      <th>2</th>\n",
              "      <td>2</td>\n",
              "      <td>3507038875</td>\n",
              "      <td>2020-08-20</td>\n",
              "      <td>5</td>\n",
              "      <td>202835637</td>\n",
              "      <td>63108769</td>\n",
              "      <td>517</td>\n",
              "      <td>222.60.132.210</td>\n",
              "      <td>2668676616</td>\n",
              "    </tr>\n",
              "    <tr>\n",
              "      <th>3</th>\n",
              "      <td>3</td>\n",
              "      <td>3507038876</td>\n",
              "      <td>2020-08-20</td>\n",
              "      <td>7</td>\n",
              "      <td>63109557</td>\n",
              "      <td>63109558</td>\n",
              "      <td>351</td>\n",
              "      <td>22.28.25.247</td>\n",
              "      <td>2668676617</td>\n",
              "    </tr>\n",
              "    <tr>\n",
              "      <th>4</th>\n",
              "      <td>4</td>\n",
              "      <td>3507036177</td>\n",
              "      <td>2020-08-20</td>\n",
              "      <td>4</td>\n",
              "      <td>69817018</td>\n",
              "      <td>63129191</td>\n",
              "      <td>162</td>\n",
              "      <td>138.169.123.254</td>\n",
              "      <td>2668677577</td>\n",
              "    </tr>\n",
              "  </tbody>\n",
              "</table>\n",
              "</div>\n",
              "      <button class=\"colab-df-convert\" onclick=\"convertToInteractive('df-93405c55-1e17-4092-8509-3333bc31de65')\"\n",
              "              title=\"Convert this dataframe to an interactive table.\"\n",
              "              style=\"display:none;\">\n",
              "        \n",
              "  <svg xmlns=\"http://www.w3.org/2000/svg\" height=\"24px\"viewBox=\"0 0 24 24\"\n",
              "       width=\"24px\">\n",
              "    <path d=\"M0 0h24v24H0V0z\" fill=\"none\"/>\n",
              "    <path d=\"M18.56 5.44l.94 2.06.94-2.06 2.06-.94-2.06-.94-.94-2.06-.94 2.06-2.06.94zm-11 1L8.5 8.5l.94-2.06 2.06-.94-2.06-.94L8.5 2.5l-.94 2.06-2.06.94zm10 10l.94 2.06.94-2.06 2.06-.94-2.06-.94-.94-2.06-.94 2.06-2.06.94z\"/><path d=\"M17.41 7.96l-1.37-1.37c-.4-.4-.92-.59-1.43-.59-.52 0-1.04.2-1.43.59L10.3 9.45l-7.72 7.72c-.78.78-.78 2.05 0 2.83L4 21.41c.39.39.9.59 1.41.59.51 0 1.02-.2 1.41-.59l7.78-7.78 2.81-2.81c.8-.78.8-2.07 0-2.86zM5.41 20L4 18.59l7.72-7.72 1.47 1.35L5.41 20z\"/>\n",
              "  </svg>\n",
              "      </button>\n",
              "      \n",
              "  <style>\n",
              "    .colab-df-container {\n",
              "      display:flex;\n",
              "      flex-wrap:wrap;\n",
              "      gap: 12px;\n",
              "    }\n",
              "\n",
              "    .colab-df-convert {\n",
              "      background-color: #E8F0FE;\n",
              "      border: none;\n",
              "      border-radius: 50%;\n",
              "      cursor: pointer;\n",
              "      display: none;\n",
              "      fill: #1967D2;\n",
              "      height: 32px;\n",
              "      padding: 0 0 0 0;\n",
              "      width: 32px;\n",
              "    }\n",
              "\n",
              "    .colab-df-convert:hover {\n",
              "      background-color: #E2EBFA;\n",
              "      box-shadow: 0px 1px 2px rgba(60, 64, 67, 0.3), 0px 1px 3px 1px rgba(60, 64, 67, 0.15);\n",
              "      fill: #174EA6;\n",
              "    }\n",
              "\n",
              "    [theme=dark] .colab-df-convert {\n",
              "      background-color: #3B4455;\n",
              "      fill: #D2E3FC;\n",
              "    }\n",
              "\n",
              "    [theme=dark] .colab-df-convert:hover {\n",
              "      background-color: #434B5C;\n",
              "      box-shadow: 0px 1px 3px 1px rgba(0, 0, 0, 0.15);\n",
              "      filter: drop-shadow(0px 1px 2px rgba(0, 0, 0, 0.3));\n",
              "      fill: #FFFFFF;\n",
              "    }\n",
              "  </style>\n",
              "\n",
              "      <script>\n",
              "        const buttonEl =\n",
              "          document.querySelector('#df-93405c55-1e17-4092-8509-3333bc31de65 button.colab-df-convert');\n",
              "        buttonEl.style.display =\n",
              "          google.colab.kernel.accessAllowed ? 'block' : 'none';\n",
              "\n",
              "        async function convertToInteractive(key) {\n",
              "          const element = document.querySelector('#df-93405c55-1e17-4092-8509-3333bc31de65');\n",
              "          const dataTable =\n",
              "            await google.colab.kernel.invokeFunction('convertToInteractive',\n",
              "                                                     [key], {});\n",
              "          if (!dataTable) return;\n",
              "\n",
              "          const docLinkHtml = 'Like what you see? Visit the ' +\n",
              "            '<a target=\"_blank\" href=https://colab.research.google.com/notebooks/data_table.ipynb>data table notebook</a>'\n",
              "            + ' to learn more about interactive tables.';\n",
              "          element.innerHTML = '';\n",
              "          dataTable['output_type'] = 'display_data';\n",
              "          await google.colab.output.renderOutput(dataTable, element);\n",
              "          const docLink = document.createElement('div');\n",
              "          docLink.innerHTML = docLinkHtml;\n",
              "          element.appendChild(docLink);\n",
              "        }\n",
              "      </script>\n",
              "    </div>\n",
              "  </div>\n",
              "  "
            ]
          },
          "metadata": {},
          "execution_count": 7
        }
      ]
    },
    {
      "cell_type": "code",
      "source": [
        "df.shape"
      ],
      "metadata": {
        "colab": {
          "base_uri": "https://localhost:8080/"
        },
        "id": "k5cakpSXs9VM",
        "outputId": "67936673-c43b-4406-e40e-c0979ab9d25b"
      },
      "execution_count": 8,
      "outputs": [
        {
          "output_type": "execute_result",
          "data": {
            "text/plain": [
              "(6044797, 9)"
            ]
          },
          "metadata": {},
          "execution_count": 8
        }
      ]
    },
    {
      "cell_type": "code",
      "source": [
        "df.info(null_counts=True)"
      ],
      "metadata": {
        "colab": {
          "base_uri": "https://localhost:8080/"
        },
        "id": "nyCxOGprtADR",
        "outputId": "1be005d3-251e-4612-a115-f20a18c09b40"
      },
      "execution_count": 9,
      "outputs": [
        {
          "output_type": "stream",
          "name": "stderr",
          "text": [
            "<ipython-input-9-acd3301a9435>:1: FutureWarning: null_counts is deprecated. Use show_counts instead\n",
            "  df.info(null_counts=True)\n"
          ]
        },
        {
          "output_type": "stream",
          "name": "stdout",
          "text": [
            "<class 'pandas.core.frame.DataFrame'>\n",
            "RangeIndex: 6044797 entries, 0 to 6044796\n",
            "Data columns (total 9 columns):\n",
            " #   Column            Non-Null Count    Dtype         \n",
            "---  ------            --------------    -----         \n",
            " 0   event_id          6044797 non-null  int64         \n",
            " 1   session_id        6044797 non-null  object        \n",
            " 2   transaction_date  6044797 non-null  datetime64[ns]\n",
            " 3   event_type_id     6043230 non-null  object        \n",
            " 4   product_id        6044797 non-null  int64         \n",
            " 5   title_product_id  6044797 non-null  int64         \n",
            " 6   country_code_id   6044462 non-null  object        \n",
            " 7   ip_address        6044797 non-null  object        \n",
            " 8   auth_session_id   5958585 non-null  object        \n",
            "dtypes: datetime64[ns](1), int64(3), object(5)\n",
            "memory usage: 415.1+ MB\n"
          ]
        }
      ]
    },
    {
      "cell_type": "markdown",
      "source": [
        "# create columns from date coulmn"
      ],
      "metadata": {
        "id": "nD5fW_pVtBuX"
      }
    },
    {
      "cell_type": "code",
      "source": [
        "df['hour'] = df['transaction_date'].apply(lambda x: x.hour)\n",
        "df['minute'] = df['transaction_date'].apply(lambda x: x.minute)\n",
        "df['second'] = df['transaction_date'].apply(lambda x: x.second)"
      ],
      "metadata": {
        "id": "PH3ZgFVMtGuz"
      },
      "execution_count": 10,
      "outputs": []
    },
    {
      "cell_type": "code",
      "source": [
        "df.to_parquet('/content/drive/MyDrive/datathon - final/df_date.parquet', index=False)"
      ],
      "metadata": {
        "id": "bXaKrjvBFTMy"
      },
      "execution_count": 21,
      "outputs": []
    },
    {
      "cell_type": "code",
      "source": [
        "for col in df:\n",
        "    print(col, df[col].nunique())"
      ],
      "metadata": {
        "colab": {
          "base_uri": "https://localhost:8080/"
        },
        "id": "8CX3esOUtprq",
        "outputId": "9b5d9aa6-3f66-4072-ed71-294e44e8a0f7"
      },
      "execution_count": 12,
      "outputs": [
        {
          "output_type": "stream",
          "name": "stdout",
          "text": [
            "event_id 6044797\n",
            "session_id 3586748\n",
            "transaction_date 86400\n",
            "event_type_id 26\n",
            "product_id 2008439\n",
            "title_product_id 21187\n",
            "country_code_id 312\n",
            "ip_address 1130066\n",
            "auth_session_id 3213231\n",
            "hour 24\n",
            "minute 60\n",
            "second 60\n"
          ]
        }
      ]
    },
    {
      "cell_type": "code",
      "source": [
        "sid_list = []\n",
        "for sid in df['session_id'].unique():\n",
        "  sid_list.append(sid)\n",
        "  "
      ],
      "metadata": {
        "colab": {
          "base_uri": "https://localhost:8080/"
        },
        "id": "XBl0hPHxxVuB",
        "outputId": "6ecb58aa-76ec-4fef-8745-e7064f4b4c60"
      },
      "execution_count": null,
      "outputs": [
        {
          "output_type": "execute_result",
          "data": {
            "text/plain": [
              "array(['3507032552', '3506994387', '3507038875', ..., '3512455623',\n",
              "       '3512460245', '3512465686'], dtype=object)"
            ]
          },
          "metadata": {},
          "execution_count": 14
        }
      ]
    },
    {
      "cell_type": "code",
      "source": [
        "df[\"session_id\"].value_counts()[0:50]"
      ],
      "metadata": {
        "colab": {
          "base_uri": "https://localhost:8080/"
        },
        "id": "l-rObkWByi_V",
        "outputId": "b5a2d546-d40a-4b4e-96de-b7de358232a7"
      },
      "execution_count": null,
      "outputs": [
        {
          "output_type": "execute_result",
          "data": {
            "text/plain": [
              "3511262826    5778\n",
              "3511197377    5621\n",
              "3507713968    5270\n",
              "3511152248    5140\n",
              "3508320075    4235\n",
              "3508210675    2712\n",
              "3507242529    2223\n",
              "3506452689    2111\n",
              "3508066987    1947\n",
              "3507466832    1937\n",
              "3508927678    1912\n",
              "3507808967    1899\n",
              "3506704666    1871\n",
              "3507245749    1792\n",
              "3509038555    1776\n",
              "3509844440    1718\n",
              "3509297129    1677\n",
              "3507499685    1575\n",
              "3507719030    1481\n",
              "3510425374    1471\n",
              "3510531945    1427\n",
              "3507079069    1410\n",
              "3506861820    1367\n",
              "3509000744    1252\n",
              "3506711535    1231\n",
              "3506919225    1229\n",
              "3510970445    1224\n",
              "3506442454    1215\n",
              "3507489975    1195\n",
              "3510799617    1184\n",
              "3506918701    1170\n",
              "3509609481    1115\n",
              "3509381765    1098\n",
              "3509532392    1083\n",
              "3510696099    1075\n",
              "3507448306    1075\n",
              "3507101322    1066\n",
              "3507167933    1051\n",
              "3506925180    1025\n",
              "3507210061    1022\n",
              "3507247178    1010\n",
              "3508375583    1003\n",
              "3511493150     991\n",
              "3507439759     989\n",
              "3509625645     973\n",
              "3510088377     929\n",
              "3508088946     926\n",
              "3507408018     908\n",
              "3509275825     885\n",
              "3507407976     850\n",
              "Name: session_id, dtype: int64"
            ]
          },
          "metadata": {},
          "execution_count": 42
        }
      ]
    },
    {
      "cell_type": "code",
      "source": [
        "df[\"session_id\"].value_counts()[100:150]"
      ],
      "metadata": {
        "colab": {
          "base_uri": "https://localhost:8080/"
        },
        "id": "j7kqx4KGP2Tt",
        "outputId": "473915ac-d109-4ac8-b533-ba65c5aa5fe2"
      },
      "execution_count": 45,
      "outputs": [
        {
          "output_type": "execute_result",
          "data": {
            "text/plain": [
              "3508489776    472\n",
              "3506402690    472\n",
              "3508793261    463\n",
              "3509424235    457\n",
              "3508300865    445\n",
              "3509013085    445\n",
              "3507377932    438\n",
              "3508679949    436\n",
              "3508194165    436\n",
              "3509442904    422\n",
              "3508313842    422\n",
              "3507497451    418\n",
              "3509631704    413\n",
              "3509328784    411\n",
              "3508028984    408\n",
              "3506983042    406\n",
              "3507875570    405\n",
              "3508190555    404\n",
              "3509512515    401\n",
              "3508952821    398\n",
              "3509093911    396\n",
              "3507581221    396\n",
              "3509708722    394\n",
              "3511998712    394\n",
              "3506282987    391\n",
              "3508265798    387\n",
              "3511384508    379\n",
              "3508302247    379\n",
              "3510471695    378\n",
              "3511568907    375\n",
              "3509076953    371\n",
              "3510833521    370\n",
              "3508492071    370\n",
              "3509375863    369\n",
              "3508488550    369\n",
              "3507767995    366\n",
              "3509353626    361\n",
              "3509030396    360\n",
              "3507427596    360\n",
              "3508500611    358\n",
              "3508163947    356\n",
              "3508053963    356\n",
              "3509242122    351\n",
              "3508137087    351\n",
              "3507982332    350\n",
              "3507374264    349\n",
              "3509159026    349\n",
              "3509513328    349\n",
              "3507746888    340\n",
              "3509848836    340\n",
              "Name: session_id, dtype: int64"
            ]
          },
          "metadata": {},
          "execution_count": 45
        }
      ]
    },
    {
      "cell_type": "code",
      "source": [
        "df[df[\"session_id\"]=='3511262826']"
      ],
      "metadata": {
        "colab": {
          "base_uri": "https://localhost:8080/",
          "height": 661
        },
        "id": "uh12oyFKyRNX",
        "outputId": "44cc9ab3-e6cd-4553-9101-ad275a7b8a75"
      },
      "execution_count": null,
      "outputs": [
        {
          "output_type": "execute_result",
          "data": {
            "text/plain": [
              "         event_id  session_id    transaction_date event_type_id  product_id  \\\n",
              "4879881   4879881  3511262826 2020-08-20 18:40:51             3    67033756   \n",
              "4880102   4880102  3511262826 2020-08-20 18:40:55             3    67033170   \n",
              "4880372   4880372  3511262826 2020-08-20 18:40:58             3    67034666   \n",
              "4880662   4880662  3511262826 2020-08-20 18:41:02             3    67034099   \n",
              "4880888   4880888  3511262826 2020-08-20 18:41:06             3    67033519   \n",
              "...           ...         ...                 ...           ...         ...   \n",
              "5763334   5763334  3511262826 2020-08-20 22:33:15             3   192841239   \n",
              "5763497   5763497  3511262826 2020-08-20 22:33:18             1   192843737   \n",
              "5763560   5763560  3511262826 2020-08-20 22:33:18             3   192843737   \n",
              "5763907   5763907  3511262826 2020-08-20 22:33:22             1   192841142   \n",
              "5763920   5763920  3511262826 2020-08-20 22:33:22             3   192841142   \n",
              "\n",
              "         title_product_id country_code_id      ip_address auth_session_id  \\\n",
              "4879881          63108718             328  188.199.240.65      2671693392   \n",
              "4880102          63108718             328  188.199.240.65      2671693392   \n",
              "4880372          63108718             328  188.199.240.65      2671693392   \n",
              "4880662          63108718             328  188.199.240.65      2671693392   \n",
              "4880888          63108718             328  188.199.240.65      2671693392   \n",
              "...                   ...             ...             ...             ...   \n",
              "5763334          63108718             328  188.199.240.65      2671693392   \n",
              "5763497          63108718             328  188.199.240.65      2671693392   \n",
              "5763560          63108718             328  188.199.240.65      2671693392   \n",
              "5763907          63108718             328  188.199.240.65      2671693392   \n",
              "5763920          63108718             328  188.199.240.65      2671693392   \n",
              "\n",
              "         day  hour  minute  second  \n",
              "4879881   20    18      40      51  \n",
              "4880102   20    18      40      55  \n",
              "4880372   20    18      40      58  \n",
              "4880662   20    18      41       2  \n",
              "4880888   20    18      41       6  \n",
              "...      ...   ...     ...     ...  \n",
              "5763334   20    22      33      15  \n",
              "5763497   20    22      33      18  \n",
              "5763560   20    22      33      18  \n",
              "5763907   20    22      33      22  \n",
              "5763920   20    22      33      22  \n",
              "\n",
              "[5778 rows x 13 columns]"
            ],
            "text/html": [
              "\n",
              "  <div id=\"df-59093490-3920-4ee0-a3a9-4e4dd9919420\">\n",
              "    <div class=\"colab-df-container\">\n",
              "      <div>\n",
              "<style scoped>\n",
              "    .dataframe tbody tr th:only-of-type {\n",
              "        vertical-align: middle;\n",
              "    }\n",
              "\n",
              "    .dataframe tbody tr th {\n",
              "        vertical-align: top;\n",
              "    }\n",
              "\n",
              "    .dataframe thead th {\n",
              "        text-align: right;\n",
              "    }\n",
              "</style>\n",
              "<table border=\"1\" class=\"dataframe\">\n",
              "  <thead>\n",
              "    <tr style=\"text-align: right;\">\n",
              "      <th></th>\n",
              "      <th>event_id</th>\n",
              "      <th>session_id</th>\n",
              "      <th>transaction_date</th>\n",
              "      <th>event_type_id</th>\n",
              "      <th>product_id</th>\n",
              "      <th>title_product_id</th>\n",
              "      <th>country_code_id</th>\n",
              "      <th>ip_address</th>\n",
              "      <th>auth_session_id</th>\n",
              "      <th>day</th>\n",
              "      <th>hour</th>\n",
              "      <th>minute</th>\n",
              "      <th>second</th>\n",
              "    </tr>\n",
              "  </thead>\n",
              "  <tbody>\n",
              "    <tr>\n",
              "      <th>4879881</th>\n",
              "      <td>4879881</td>\n",
              "      <td>3511262826</td>\n",
              "      <td>2020-08-20 18:40:51</td>\n",
              "      <td>3</td>\n",
              "      <td>67033756</td>\n",
              "      <td>63108718</td>\n",
              "      <td>328</td>\n",
              "      <td>188.199.240.65</td>\n",
              "      <td>2671693392</td>\n",
              "      <td>20</td>\n",
              "      <td>18</td>\n",
              "      <td>40</td>\n",
              "      <td>51</td>\n",
              "    </tr>\n",
              "    <tr>\n",
              "      <th>4880102</th>\n",
              "      <td>4880102</td>\n",
              "      <td>3511262826</td>\n",
              "      <td>2020-08-20 18:40:55</td>\n",
              "      <td>3</td>\n",
              "      <td>67033170</td>\n",
              "      <td>63108718</td>\n",
              "      <td>328</td>\n",
              "      <td>188.199.240.65</td>\n",
              "      <td>2671693392</td>\n",
              "      <td>20</td>\n",
              "      <td>18</td>\n",
              "      <td>40</td>\n",
              "      <td>55</td>\n",
              "    </tr>\n",
              "    <tr>\n",
              "      <th>4880372</th>\n",
              "      <td>4880372</td>\n",
              "      <td>3511262826</td>\n",
              "      <td>2020-08-20 18:40:58</td>\n",
              "      <td>3</td>\n",
              "      <td>67034666</td>\n",
              "      <td>63108718</td>\n",
              "      <td>328</td>\n",
              "      <td>188.199.240.65</td>\n",
              "      <td>2671693392</td>\n",
              "      <td>20</td>\n",
              "      <td>18</td>\n",
              "      <td>40</td>\n",
              "      <td>58</td>\n",
              "    </tr>\n",
              "    <tr>\n",
              "      <th>4880662</th>\n",
              "      <td>4880662</td>\n",
              "      <td>3511262826</td>\n",
              "      <td>2020-08-20 18:41:02</td>\n",
              "      <td>3</td>\n",
              "      <td>67034099</td>\n",
              "      <td>63108718</td>\n",
              "      <td>328</td>\n",
              "      <td>188.199.240.65</td>\n",
              "      <td>2671693392</td>\n",
              "      <td>20</td>\n",
              "      <td>18</td>\n",
              "      <td>41</td>\n",
              "      <td>2</td>\n",
              "    </tr>\n",
              "    <tr>\n",
              "      <th>4880888</th>\n",
              "      <td>4880888</td>\n",
              "      <td>3511262826</td>\n",
              "      <td>2020-08-20 18:41:06</td>\n",
              "      <td>3</td>\n",
              "      <td>67033519</td>\n",
              "      <td>63108718</td>\n",
              "      <td>328</td>\n",
              "      <td>188.199.240.65</td>\n",
              "      <td>2671693392</td>\n",
              "      <td>20</td>\n",
              "      <td>18</td>\n",
              "      <td>41</td>\n",
              "      <td>6</td>\n",
              "    </tr>\n",
              "    <tr>\n",
              "      <th>...</th>\n",
              "      <td>...</td>\n",
              "      <td>...</td>\n",
              "      <td>...</td>\n",
              "      <td>...</td>\n",
              "      <td>...</td>\n",
              "      <td>...</td>\n",
              "      <td>...</td>\n",
              "      <td>...</td>\n",
              "      <td>...</td>\n",
              "      <td>...</td>\n",
              "      <td>...</td>\n",
              "      <td>...</td>\n",
              "      <td>...</td>\n",
              "    </tr>\n",
              "    <tr>\n",
              "      <th>5763334</th>\n",
              "      <td>5763334</td>\n",
              "      <td>3511262826</td>\n",
              "      <td>2020-08-20 22:33:15</td>\n",
              "      <td>3</td>\n",
              "      <td>192841239</td>\n",
              "      <td>63108718</td>\n",
              "      <td>328</td>\n",
              "      <td>188.199.240.65</td>\n",
              "      <td>2671693392</td>\n",
              "      <td>20</td>\n",
              "      <td>22</td>\n",
              "      <td>33</td>\n",
              "      <td>15</td>\n",
              "    </tr>\n",
              "    <tr>\n",
              "      <th>5763497</th>\n",
              "      <td>5763497</td>\n",
              "      <td>3511262826</td>\n",
              "      <td>2020-08-20 22:33:18</td>\n",
              "      <td>1</td>\n",
              "      <td>192843737</td>\n",
              "      <td>63108718</td>\n",
              "      <td>328</td>\n",
              "      <td>188.199.240.65</td>\n",
              "      <td>2671693392</td>\n",
              "      <td>20</td>\n",
              "      <td>22</td>\n",
              "      <td>33</td>\n",
              "      <td>18</td>\n",
              "    </tr>\n",
              "    <tr>\n",
              "      <th>5763560</th>\n",
              "      <td>5763560</td>\n",
              "      <td>3511262826</td>\n",
              "      <td>2020-08-20 22:33:18</td>\n",
              "      <td>3</td>\n",
              "      <td>192843737</td>\n",
              "      <td>63108718</td>\n",
              "      <td>328</td>\n",
              "      <td>188.199.240.65</td>\n",
              "      <td>2671693392</td>\n",
              "      <td>20</td>\n",
              "      <td>22</td>\n",
              "      <td>33</td>\n",
              "      <td>18</td>\n",
              "    </tr>\n",
              "    <tr>\n",
              "      <th>5763907</th>\n",
              "      <td>5763907</td>\n",
              "      <td>3511262826</td>\n",
              "      <td>2020-08-20 22:33:22</td>\n",
              "      <td>1</td>\n",
              "      <td>192841142</td>\n",
              "      <td>63108718</td>\n",
              "      <td>328</td>\n",
              "      <td>188.199.240.65</td>\n",
              "      <td>2671693392</td>\n",
              "      <td>20</td>\n",
              "      <td>22</td>\n",
              "      <td>33</td>\n",
              "      <td>22</td>\n",
              "    </tr>\n",
              "    <tr>\n",
              "      <th>5763920</th>\n",
              "      <td>5763920</td>\n",
              "      <td>3511262826</td>\n",
              "      <td>2020-08-20 22:33:22</td>\n",
              "      <td>3</td>\n",
              "      <td>192841142</td>\n",
              "      <td>63108718</td>\n",
              "      <td>328</td>\n",
              "      <td>188.199.240.65</td>\n",
              "      <td>2671693392</td>\n",
              "      <td>20</td>\n",
              "      <td>22</td>\n",
              "      <td>33</td>\n",
              "      <td>22</td>\n",
              "    </tr>\n",
              "  </tbody>\n",
              "</table>\n",
              "<p>5778 rows × 13 columns</p>\n",
              "</div>\n",
              "      <button class=\"colab-df-convert\" onclick=\"convertToInteractive('df-59093490-3920-4ee0-a3a9-4e4dd9919420')\"\n",
              "              title=\"Convert this dataframe to an interactive table.\"\n",
              "              style=\"display:none;\">\n",
              "        \n",
              "  <svg xmlns=\"http://www.w3.org/2000/svg\" height=\"24px\"viewBox=\"0 0 24 24\"\n",
              "       width=\"24px\">\n",
              "    <path d=\"M0 0h24v24H0V0z\" fill=\"none\"/>\n",
              "    <path d=\"M18.56 5.44l.94 2.06.94-2.06 2.06-.94-2.06-.94-.94-2.06-.94 2.06-2.06.94zm-11 1L8.5 8.5l.94-2.06 2.06-.94-2.06-.94L8.5 2.5l-.94 2.06-2.06.94zm10 10l.94 2.06.94-2.06 2.06-.94-2.06-.94-.94-2.06-.94 2.06-2.06.94z\"/><path d=\"M17.41 7.96l-1.37-1.37c-.4-.4-.92-.59-1.43-.59-.52 0-1.04.2-1.43.59L10.3 9.45l-7.72 7.72c-.78.78-.78 2.05 0 2.83L4 21.41c.39.39.9.59 1.41.59.51 0 1.02-.2 1.41-.59l7.78-7.78 2.81-2.81c.8-.78.8-2.07 0-2.86zM5.41 20L4 18.59l7.72-7.72 1.47 1.35L5.41 20z\"/>\n",
              "  </svg>\n",
              "      </button>\n",
              "      \n",
              "  <style>\n",
              "    .colab-df-container {\n",
              "      display:flex;\n",
              "      flex-wrap:wrap;\n",
              "      gap: 12px;\n",
              "    }\n",
              "\n",
              "    .colab-df-convert {\n",
              "      background-color: #E8F0FE;\n",
              "      border: none;\n",
              "      border-radius: 50%;\n",
              "      cursor: pointer;\n",
              "      display: none;\n",
              "      fill: #1967D2;\n",
              "      height: 32px;\n",
              "      padding: 0 0 0 0;\n",
              "      width: 32px;\n",
              "    }\n",
              "\n",
              "    .colab-df-convert:hover {\n",
              "      background-color: #E2EBFA;\n",
              "      box-shadow: 0px 1px 2px rgba(60, 64, 67, 0.3), 0px 1px 3px 1px rgba(60, 64, 67, 0.15);\n",
              "      fill: #174EA6;\n",
              "    }\n",
              "\n",
              "    [theme=dark] .colab-df-convert {\n",
              "      background-color: #3B4455;\n",
              "      fill: #D2E3FC;\n",
              "    }\n",
              "\n",
              "    [theme=dark] .colab-df-convert:hover {\n",
              "      background-color: #434B5C;\n",
              "      box-shadow: 0px 1px 3px 1px rgba(0, 0, 0, 0.15);\n",
              "      filter: drop-shadow(0px 1px 2px rgba(0, 0, 0, 0.3));\n",
              "      fill: #FFFFFF;\n",
              "    }\n",
              "  </style>\n",
              "\n",
              "      <script>\n",
              "        const buttonEl =\n",
              "          document.querySelector('#df-59093490-3920-4ee0-a3a9-4e4dd9919420 button.colab-df-convert');\n",
              "        buttonEl.style.display =\n",
              "          google.colab.kernel.accessAllowed ? 'block' : 'none';\n",
              "\n",
              "        async function convertToInteractive(key) {\n",
              "          const element = document.querySelector('#df-59093490-3920-4ee0-a3a9-4e4dd9919420');\n",
              "          const dataTable =\n",
              "            await google.colab.kernel.invokeFunction('convertToInteractive',\n",
              "                                                     [key], {});\n",
              "          if (!dataTable) return;\n",
              "\n",
              "          const docLinkHtml = 'Like what you see? Visit the ' +\n",
              "            '<a target=\"_blank\" href=https://colab.research.google.com/notebooks/data_table.ipynb>data table notebook</a>'\n",
              "            + ' to learn more about interactive tables.';\n",
              "          element.innerHTML = '';\n",
              "          dataTable['output_type'] = 'display_data';\n",
              "          await google.colab.output.renderOutput(dataTable, element);\n",
              "          const docLink = document.createElement('div');\n",
              "          docLink.innerHTML = docLinkHtml;\n",
              "          element.appendChild(docLink);\n",
              "        }\n",
              "      </script>\n",
              "    </div>\n",
              "  </div>\n",
              "  "
            ]
          },
          "metadata": {},
          "execution_count": 18
        }
      ]
    },
    {
      "cell_type": "code",
      "source": [
        "df[df['auth_session_id']==df[df[\"session_id\"]=='3511262826']['auth_session_id'].unique()[0]][\"session_id\"].value_counts()"
      ],
      "metadata": {
        "colab": {
          "base_uri": "https://localhost:8080/"
        },
        "id": "wSsY9kcF8v9W",
        "outputId": "773edc9c-32ea-436e-8c51-5b39ec24a5ac"
      },
      "execution_count": null,
      "outputs": [
        {
          "output_type": "execute_result",
          "data": {
            "text/plain": [
              "3511262826    5778\n",
              "Name: session_id, dtype: int64"
            ]
          },
          "metadata": {},
          "execution_count": 49
        }
      ]
    },
    {
      "cell_type": "markdown",
      "source": [
        "# check how the trend of number of events vary with minutes for specific session id"
      ],
      "metadata": {
        "id": "z1EBNwVKtOTL"
      }
    },
    {
      "cell_type": "code",
      "source": [
        "df[df[\"session_id\"]=='3511262826'].groupby(['hour', 'minute'])['minute'].count()"
      ],
      "metadata": {
        "colab": {
          "base_uri": "https://localhost:8080/"
        },
        "id": "ahdkU4nczdza",
        "outputId": "9085c23f-caac-43dd-c9eb-3ae9df208aed"
      },
      "execution_count": null,
      "outputs": [
        {
          "output_type": "execute_result",
          "data": {
            "text/plain": [
              "hour  minute\n",
              "18    40         3\n",
              "      41        15\n",
              "      42        16\n",
              "      43        17\n",
              "      44        16\n",
              "      45        16\n",
              "      46        15\n",
              "      47        16\n",
              "      48        15\n",
              "      49        16\n",
              "      50        15\n",
              "      51        15\n",
              "      52        19\n",
              "      53        26\n",
              "      54        23\n",
              "      55        19\n",
              "      56        22\n",
              "      57        15\n",
              "      58        16\n",
              "      59        23\n",
              "19    0         16\n",
              "      1         15\n",
              "      2         16\n",
              "      3         16\n",
              "      4         15\n",
              "      5         15\n",
              "      6         15\n",
              "      7         20\n",
              "      8         27\n",
              "      9         20\n",
              "      10        16\n",
              "      11        13\n",
              "      12        16\n",
              "      13        17\n",
              "      14        14\n",
              "      15        16\n",
              "      16        15\n",
              "      17        16\n",
              "      18        16\n",
              "      19        15\n",
              "      20        16\n",
              "      21        14\n",
              "      22        16\n",
              "      23        14\n",
              "      24        16\n",
              "      25        16\n",
              "      26        14\n",
              "      27        17\n",
              "      28        15\n",
              "      29        16\n",
              "      30        16\n",
              "      31        16\n",
              "      32        15\n",
              "      33        16\n",
              "      34        16\n",
              "      35        16\n",
              "      36        15\n",
              "      37        15\n",
              "      38        23\n",
              "      39        17\n",
              "      40        23\n",
              "      41        24\n",
              "      42        25\n",
              "      43        19\n",
              "      44        26\n",
              "      45        18\n",
              "      46        20\n",
              "      47        24\n",
              "      48        19\n",
              "      49        25\n",
              "      50        18\n",
              "      51        22\n",
              "      52        17\n",
              "      53        26\n",
              "      54        16\n",
              "      55        18\n",
              "      56        25\n",
              "      57        20\n",
              "      58        18\n",
              "      59        25\n",
              "20    0         25\n",
              "      1         25\n",
              "      2         23\n",
              "      3         21\n",
              "      4         25\n",
              "      5         27\n",
              "      6         27\n",
              "      7         19\n",
              "      8         24\n",
              "      9         25\n",
              "      10        28\n",
              "      11        22\n",
              "      12        27\n",
              "      13        28\n",
              "      14        27\n",
              "      15        31\n",
              "      16        27\n",
              "      17        30\n",
              "      18        29\n",
              "      19        21\n",
              "      20        26\n",
              "      21        32\n",
              "      22        29\n",
              "      23        30\n",
              "      24        32\n",
              "      25        29\n",
              "      26        32\n",
              "      27        30\n",
              "      28        30\n",
              "      29        32\n",
              "      30        28\n",
              "      31        32\n",
              "      32        30\n",
              "      33        28\n",
              "      34        32\n",
              "      35        29\n",
              "      36        32\n",
              "      37        26\n",
              "      38        30\n",
              "      39        29\n",
              "      40        32\n",
              "      41        30\n",
              "      42        32\n",
              "      43        31\n",
              "      44        28\n",
              "      45        32\n",
              "      46        28\n",
              "      47        32\n",
              "      48        30\n",
              "      49        26\n",
              "      50        34\n",
              "      51        32\n",
              "      52        32\n",
              "      53        30\n",
              "      54        30\n",
              "      55        30\n",
              "      56        26\n",
              "      57        32\n",
              "      58        32\n",
              "      59        30\n",
              "21    0         34\n",
              "      1         34\n",
              "      2         26\n",
              "      3         31\n",
              "      4         32\n",
              "      5         28\n",
              "      6         30\n",
              "      7         30\n",
              "      8         29\n",
              "      9         30\n",
              "      10        30\n",
              "      11        32\n",
              "      12        32\n",
              "      13        32\n",
              "      14        15\n",
              "      15        23\n",
              "      16        30\n",
              "      17        32\n",
              "      18        33\n",
              "      19        28\n",
              "      20        32\n",
              "      21        32\n",
              "      22        14\n",
              "      23        16\n",
              "      24        32\n",
              "      25        34\n",
              "      26        32\n",
              "      27        32\n",
              "      28        21\n",
              "      29        16\n",
              "      30        26\n",
              "      31        32\n",
              "      32        32\n",
              "      33        32\n",
              "      34        32\n",
              "      35        32\n",
              "      36        30\n",
              "      37        32\n",
              "      38        30\n",
              "      39        34\n",
              "      40        32\n",
              "      41        32\n",
              "      42        31\n",
              "      43        24\n",
              "      44        16\n",
              "      45        16\n",
              "      46        16\n",
              "      47        16\n",
              "      48        25\n",
              "      49        22\n",
              "      50        30\n",
              "      51        13\n",
              "      52        25\n",
              "      53        26\n",
              "      54        21\n",
              "      55        27\n",
              "      56        27\n",
              "      57        31\n",
              "      58        30\n",
              "      59        33\n",
              "22    0         27\n",
              "      1         28\n",
              "      2         26\n",
              "      3         27\n",
              "      4         24\n",
              "      5         31\n",
              "      6         27\n",
              "      7         31\n",
              "      8         30\n",
              "      9         28\n",
              "      10        27\n",
              "      11        31\n",
              "      12        31\n",
              "      13        30\n",
              "      14        31\n",
              "      15        29\n",
              "      16        30\n",
              "      17        31\n",
              "      18        33\n",
              "      19        27\n",
              "      20        34\n",
              "      21        33\n",
              "      22        29\n",
              "      23        33\n",
              "      24        23\n",
              "      25        31\n",
              "      26        32\n",
              "      27        28\n",
              "      28        33\n",
              "      29        29\n",
              "      30        32\n",
              "      31        31\n",
              "      32        28\n",
              "      33        14\n",
              "Name: minute, dtype: int64"
            ]
          },
          "metadata": {},
          "execution_count": 35
        }
      ]
    },
    {
      "cell_type": "markdown",
      "source": [
        "#Check the stationary with graph"
      ],
      "metadata": {
        "id": "EL2guo1EtYa4"
      }
    },
    {
      "cell_type": "code",
      "source": [
        "df[df[\"session_id\"]=='3511262826'].groupby(['hour', 'minute'])['minute'].count().plot()"
      ],
      "metadata": {
        "colab": {
          "base_uri": "https://localhost:8080/",
          "height": 297
        },
        "id": "4DiOkSaN8bO-",
        "outputId": "87a53c36-2a70-4f54-e22b-ce94b6a0e1aa"
      },
      "execution_count": null,
      "outputs": [
        {
          "output_type": "execute_result",
          "data": {
            "text/plain": [
              "<matplotlib.axes._subplots.AxesSubplot at 0x7f2bdd5cc6a0>"
            ]
          },
          "metadata": {},
          "execution_count": 43
        },
        {
          "output_type": "display_data",
          "data": {
            "text/plain": [
              "<Figure size 432x288 with 1 Axes>"
            ],
            "image/png": "[encoded data removed]"
          },
          "metadata": {
            "needs_background": "light"
          }
        }
      ]
    },
    {
      "cell_type": "code",
      "source": [
        "df[df[\"session_id\"]=='3510425374'].groupby(['hour', 'minute'])['minute'].count().plot()"
      ],
      "metadata": {
        "colab": {
          "base_uri": "https://localhost:8080/",
          "height": 296
        },
        "id": "5oqoPyIV8gLH",
        "outputId": "9bbbf0ae-343f-4395-8536-43b563cc386e"
      },
      "execution_count": null,
      "outputs": [
        {
          "output_type": "execute_result",
          "data": {
            "text/plain": [
              "<matplotlib.axes._subplots.AxesSubplot at 0x7f2bcf7570a0>"
            ]
          },
          "metadata": {},
          "execution_count": 44
        },
        {
          "output_type": "display_data",
          "data": {
            "text/plain": [
              "<Figure size 432x288 with 1 Axes>"
            ],
            "image/png": "[encoded data removed]"
          },
          "metadata": {
            "needs_background": "light"
          }
        }
      ]
    },
    {
      "cell_type": "code",
      "source": [
        "df[df[\"session_id\"]=='3510425374'].groupby(['hour', 'minute'])['minute'].count()"
      ],
      "metadata": {
        "colab": {
          "base_uri": "https://localhost:8080/"
        },
        "id": "7JOVgujp6Nx4",
        "outputId": "e60638ab-45ad-4c12-bbde-9c96f7b63843"
      },
      "execution_count": null,
      "outputs": [
        {
          "output_type": "execute_result",
          "data": {
            "text/plain": [
              "hour  minute\n",
              "14    58        1\n",
              "      59        1\n",
              "15    0         2\n",
              "      1         3\n",
              "      2         4\n",
              "      3         4\n",
              "      4         4\n",
              "      5         4\n",
              "      6         4\n",
              "      7         4\n",
              "      8         3\n",
              "      9         2\n",
              "      10        1\n",
              "      17        2\n",
              "      18        2\n",
              "      19        2\n",
              "      25        4\n",
              "      26        3\n",
              "      27        2\n",
              "      28        1\n",
              "      29        4\n",
              "      30        4\n",
              "      31        4\n",
              "      32        4\n",
              "      33        3\n",
              "      34        1\n",
              "      35        2\n",
              "      36        2\n",
              "      37        2\n",
              "      38        4\n",
              "      39        3\n",
              "      40        4\n",
              "      41        4\n",
              "      44        2\n",
              "      45        1\n",
              "      46        4\n",
              "      47        3\n",
              "      48        2\n",
              "      49        1\n",
              "      50        4\n",
              "      51        2\n",
              "      52        4\n",
              "      53        3\n",
              "      54        2\n",
              "      55        4\n",
              "      56        3\n",
              "      58        3\n",
              "      59        2\n",
              "16    0         4\n",
              "      1         4\n",
              "      2         3\n",
              "      3         1\n",
              "      4         3\n",
              "      5         2\n",
              "      6         5\n",
              "      7         1\n",
              "      8         3\n",
              "      9         2\n",
              "      10        2\n",
              "      11        2\n",
              "      12        2\n",
              "      13        2\n",
              "      14        2\n",
              "      15        2\n",
              "      16        2\n",
              "      17        2\n",
              "      18        2\n",
              "      19        2\n",
              "      21        2\n",
              "      22        2\n",
              "      23        2\n",
              "      24        2\n",
              "      25        2\n",
              "      26        2\n",
              "      27        2\n",
              "      28        2\n",
              "      29        2\n",
              "      30        2\n",
              "      31        2\n",
              "      32        2\n",
              "      33        2\n",
              "      34        2\n",
              "      35        1\n",
              "      36        4\n",
              "      37        5\n",
              "      38        3\n",
              "      39        4\n",
              "      40        4\n",
              "      41        5\n",
              "      42        1\n",
              "      43        3\n",
              "      44        4\n",
              "      45        3\n",
              "      46        3\n",
              "      47        4\n",
              "      48        5\n",
              "      49        1\n",
              "      50        2\n",
              "      51        4\n",
              "      52        4\n",
              "      53        4\n",
              "      54        4\n",
              "      55        5\n",
              "      56        2\n",
              "      57        5\n",
              "      58        4\n",
              "      59        4\n",
              "17    0         4\n",
              "      1         4\n",
              "      2         5\n",
              "      3         3\n",
              "      4         3\n",
              "      5         2\n",
              "      6         3\n",
              "      7         2\n",
              "      8         4\n",
              "      9         1\n",
              "      10        2\n",
              "      11        2\n",
              "      12        2\n",
              "      13        3\n",
              "      14        4\n",
              "      15        4\n",
              "      16        2\n",
              "      17        4\n",
              "      18        2\n",
              "      19        1\n",
              "      20        3\n",
              "      21        4\n",
              "      22        5\n",
              "      23        4\n",
              "      24        4\n",
              "      25        3\n",
              "      26        4\n",
              "      27        5\n",
              "      28        2\n",
              "      29        2\n",
              "      30        2\n",
              "      31        3\n",
              "      32        1\n",
              "      34        1\n",
              "      35        1\n",
              "      37        1\n",
              "      38        2\n",
              "      39        2\n",
              "      40        3\n",
              "      41        3\n",
              "      42        2\n",
              "      43        1\n",
              "      44        4\n",
              "      45        4\n",
              "      46        4\n",
              "      47        4\n",
              "      48        4\n",
              "      49        2\n",
              "      50        4\n",
              "      51        4\n",
              "      52        2\n",
              "      53        5\n",
              "      54        4\n",
              "      55        4\n",
              "      56        5\n",
              "      57        4\n",
              "      58        4\n",
              "      59        4\n",
              "18    0         4\n",
              "      1         3\n",
              "      2         4\n",
              "      3         4\n",
              "      4         4\n",
              "      5         2\n",
              "      6         4\n",
              "      7         5\n",
              "      8         4\n",
              "      9         4\n",
              "      10        4\n",
              "      11        4\n",
              "      12        3\n",
              "      13        4\n",
              "      14        3\n",
              "      15        5\n",
              "      16        2\n",
              "      17        4\n",
              "      18        4\n",
              "      19        3\n",
              "      20        2\n",
              "      21        4\n",
              "      22        4\n",
              "      23        5\n",
              "      24        5\n",
              "      25        4\n",
              "      26        7\n",
              "      27        4\n",
              "      28        4\n",
              "      29        4\n",
              "      30        3\n",
              "      31        2\n",
              "      32        2\n",
              "      33        2\n",
              "      34        2\n",
              "      35        2\n",
              "      36        2\n",
              "      37        3\n",
              "      38        3\n",
              "      39        4\n",
              "      40        4\n",
              "      41        4\n",
              "      42        4\n",
              "      43        5\n",
              "      44        3\n",
              "      46        3\n",
              "      47        4\n",
              "      48        4\n",
              "      49        4\n",
              "      50        4\n",
              "      51        4\n",
              "      52        4\n",
              "      54        1\n",
              "      55        1\n",
              "      56        1\n",
              "      57        1\n",
              "      59        1\n",
              "19    1         1\n",
              "      2         1\n",
              "      3         3\n",
              "      4         2\n",
              "      5         2\n",
              "      6         3\n",
              "      8         1\n",
              "      9         1\n",
              "      11        1\n",
              "      13        2\n",
              "      14        1\n",
              "      15        2\n",
              "      16        3\n",
              "      17        2\n",
              "      18        2\n",
              "      19        1\n",
              "      20        1\n",
              "      21        2\n",
              "      22        3\n",
              "      23        2\n",
              "      24        3\n",
              "      25        4\n",
              "      26        5\n",
              "      27        3\n",
              "      28        2\n",
              "      29        2\n",
              "      30        2\n",
              "      31        1\n",
              "      32        2\n",
              "      33        5\n",
              "      34        2\n",
              "      35        3\n",
              "      36        2\n",
              "      37        2\n",
              "      38        2\n",
              "      39        2\n",
              "      40        2\n",
              "      41        2\n",
              "      42        1\n",
              "      43        2\n",
              "      44        2\n",
              "      45        2\n",
              "      46        3\n",
              "      47        5\n",
              "      48        5\n",
              "      49        2\n",
              "      50        4\n",
              "      51        4\n",
              "      52        4\n",
              "      53        3\n",
              "      54        4\n",
              "      55        1\n",
              "      56        3\n",
              "      57        1\n",
              "      58        2\n",
              "      59        2\n",
              "20    0         4\n",
              "      1         4\n",
              "      2         4\n",
              "      3         4\n",
              "      4         5\n",
              "      5         4\n",
              "      6         4\n",
              "      7         2\n",
              "      8         5\n",
              "      9         4\n",
              "      10        4\n",
              "      11        4\n",
              "      12        4\n",
              "      13        4\n",
              "      14        4\n",
              "      15        3\n",
              "      16        2\n",
              "      17        4\n",
              "      18        2\n",
              "      19        5\n",
              "      20        2\n",
              "      21        2\n",
              "      22        2\n",
              "      23        2\n",
              "      24        2\n",
              "      25        2\n",
              "      26        2\n",
              "      27        2\n",
              "      28        2\n",
              "      29        2\n",
              "      30        1\n",
              "      31        3\n",
              "      32        3\n",
              "      33        2\n",
              "      34        2\n",
              "      35        3\n",
              "      36        2\n",
              "      37        2\n",
              "      38        3\n",
              "      39        4\n",
              "      40        2\n",
              "      41        3\n",
              "      42        3\n",
              "      43        4\n",
              "      44        5\n",
              "      45        4\n",
              "      46        3\n",
              "      47        3\n",
              "      48        1\n",
              "      49        1\n",
              "      51        2\n",
              "      52        2\n",
              "      53        2\n",
              "      54        2\n",
              "      55        2\n",
              "      56        2\n",
              "      57        2\n",
              "      58        2\n",
              "21    0         2\n",
              "      1         2\n",
              "      3         2\n",
              "      4         2\n",
              "      5         3\n",
              "      6         2\n",
              "      7         4\n",
              "      8         4\n",
              "      9         4\n",
              "      10        4\n",
              "      11        4\n",
              "      12        4\n",
              "      13        3\n",
              "      14        4\n",
              "      15        3\n",
              "      16        4\n",
              "      17        2\n",
              "      18        2\n",
              "      19        2\n",
              "      20        3\n",
              "      21        3\n",
              "      22        2\n",
              "      23        2\n",
              "      24        4\n",
              "      25        2\n",
              "      26        2\n",
              "      27        3\n",
              "      28        4\n",
              "      29        4\n",
              "      30        5\n",
              "      31        4\n",
              "      32        4\n",
              "      33        4\n",
              "      34        4\n",
              "      35        4\n",
              "      36        4\n",
              "      37        4\n",
              "      38        4\n",
              "      39        4\n",
              "      40        4\n",
              "      41        4\n",
              "      42        4\n",
              "      43        4\n",
              "      44        2\n",
              "      45        4\n",
              "      46        4\n",
              "      47        3\n",
              "      48        4\n",
              "      49        5\n",
              "      50        4\n",
              "      51        4\n",
              "      52        4\n",
              "      53        1\n",
              "      54        1\n",
              "      55        1\n",
              "      56        3\n",
              "      57        2\n",
              "      58        3\n",
              "      59        4\n",
              "22    0         4\n",
              "      1         4\n",
              "      2         4\n",
              "      3         4\n",
              "      4         4\n",
              "      5         3\n",
              "      6         4\n",
              "      7         3\n",
              "      8         4\n",
              "      9         4\n",
              "      10        4\n",
              "      11        4\n",
              "      12        4\n",
              "      13        5\n",
              "      14        1\n",
              "      15        1\n",
              "      17        1\n",
              "      18        3\n",
              "      19        4\n",
              "      20        2\n",
              "      21        4\n",
              "      22        4\n",
              "      23        4\n",
              "      24        3\n",
              "      25        4\n",
              "      26        5\n",
              "      27        4\n",
              "      28        4\n",
              "      29        4\n",
              "      30        5\n",
              "      31        4\n",
              "      32        4\n",
              "      33        4\n",
              "      34        5\n",
              "      35        1\n",
              "      37        1\n",
              "      38        2\n",
              "      39        1\n",
              "      40        1\n",
              "      42        1\n",
              "      43        1\n",
              "      45        1\n",
              "      46        1\n",
              "      48        1\n",
              "      50        2\n",
              "      51        1\n",
              "      52        3\n",
              "      53        4\n",
              "      54        5\n",
              "      55        2\n",
              "      56        3\n",
              "      57        3\n",
              "      58        4\n",
              "      59        3\n",
              "23    0         5\n",
              "      1         2\n",
              "      2         2\n",
              "      3         2\n",
              "      4         2\n",
              "      5         2\n",
              "      6         3\n",
              "      7         3\n",
              "      8         2\n",
              "      9         2\n",
              "      10        3\n",
              "      11        2\n",
              "      12        2\n",
              "      13        3\n",
              "      14        2\n",
              "      15        1\n",
              "      16        2\n",
              "      17        2\n",
              "      18        3\n",
              "      19        3\n",
              "      20        1\n",
              "      21        2\n",
              "      22        2\n",
              "      23        3\n",
              "      24        4\n",
              "      26        1\n",
              "      27        2\n",
              "      28        2\n",
              "      29        3\n",
              "      30        3\n",
              "      31        4\n",
              "      32        4\n",
              "      33        5\n",
              "      34        4\n",
              "      35        4\n",
              "      36        4\n",
              "      37        2\n",
              "      38        4\n",
              "      39        2\n",
              "      40        2\n",
              "      41        2\n",
              "      42        3\n",
              "      43        2\n",
              "      44        2\n",
              "      45        2\n",
              "      46        2\n",
              "      47        3\n",
              "      48        2\n",
              "      49        2\n",
              "      50        2\n",
              "      51        2\n",
              "      52        2\n",
              "      53        2\n",
              "      54        2\n",
              "      55        2\n",
              "      56        2\n",
              "      57        2\n",
              "      58        2\n",
              "      59        2\n",
              "Name: minute, dtype: int64"
            ]
          },
          "metadata": {},
          "execution_count": 41
        }
      ]
    },
    {
      "cell_type": "code",
      "source": [
        "3510425374"
      ],
      "metadata": {
        "id": "WdFeH17Y6Kyr"
      },
      "execution_count": null,
      "outputs": []
    },
    {
      "cell_type": "code",
      "source": [
        "df_fe = df.copy()"
      ],
      "metadata": {
        "id": "-BZgYopY2Lez"
      },
      "execution_count": 13,
      "outputs": []
    },
    {
      "cell_type": "code",
      "source": [
        "df_fe = df_fe.drop(columns=['event_id', 'transaction_date'])"
      ],
      "metadata": {
        "id": "NPPKv9942OwA"
      },
      "execution_count": 15,
      "outputs": []
    },
    {
      "cell_type": "code",
      "source": [
        "df_gpby = df.groupby(['session_id', 'hour', 'minute'])['minute'].count()"
      ],
      "metadata": {
        "id": "uyH6SdUo-qga"
      },
      "execution_count": null,
      "outputs": []
    },
    {
      "cell_type": "code",
      "source": [
        "df_gpby.head()"
      ],
      "metadata": {
        "colab": {
          "base_uri": "https://localhost:8080/"
        },
        "id": "S3CYT4re_ZIF",
        "outputId": "6b06f0e5-cf80-4412-8f6a-92e7de750917"
      },
      "execution_count": null,
      "outputs": [
        {
          "output_type": "execute_result",
          "data": {
            "text/plain": [
              "session_id  hour  minute\n",
              "3503162006  1     8         1\n",
              "3505498857  0     1         1\n",
              "                  6         1\n",
              "                  12        1\n",
              "                  17        1\n",
              "Name: minute, dtype: int64"
            ]
          },
          "metadata": {},
          "execution_count": 62
        }
      ]
    },
    {
      "cell_type": "code",
      "source": [
        "df_gpby = pd.DataFrame({'count' : df_gpby}).reset_index()\n",
        "df_gpby"
      ],
      "metadata": {
        "id": "nx6HqUOpB-gB"
      },
      "execution_count": null,
      "outputs": []
    },
    {
      "cell_type": "code",
      "source": [
        "df_fe_mer = df_fe.merge(df_gpby, on=['session_id', 'hour', 'minute'],  how='left')"
      ],
      "metadata": {
        "colab": {
          "base_uri": "https://localhost:8080/",
          "height": 311
        },
        "id": "p79BMn9xAlHE",
        "outputId": "6c6b36a1-640d-41f8-a8ba-a845cc832a9f"
      },
      "execution_count": null,
      "outputs": [
        {
          "output_type": "error",
          "ename": "ValueError",
          "evalue": "ignored",
          "traceback": [
            "\u001b[0;31m---------------------------------------------------------------------------\u001b[0m",
            "\u001b[0;31mValueError\u001b[0m                                Traceback (most recent call last)",
            "\u001b[0;32m<ipython-input-63-6876207b95e0>\u001b[0m in \u001b[0;36m<module>\u001b[0;34m\u001b[0m\n\u001b[0;32m----> 1\u001b[0;31m \u001b[0mdf_fe_mer\u001b[0m \u001b[0;34m=\u001b[0m \u001b[0mdf_fe\u001b[0m\u001b[0;34m.\u001b[0m\u001b[0mmerge\u001b[0m\u001b[0;34m(\u001b[0m\u001b[0mdf_gpby\u001b[0m\u001b[0;34m,\u001b[0m \u001b[0mon\u001b[0m\u001b[0;34m=\u001b[0m\u001b[0;34m[\u001b[0m\u001b[0;34m'session_id'\u001b[0m\u001b[0;34m,\u001b[0m \u001b[0;34m'hour'\u001b[0m\u001b[0;34m,\u001b[0m \u001b[0;34m'minute'\u001b[0m\u001b[0;34m]\u001b[0m\u001b[0;34m,\u001b[0m  \u001b[0mhow\u001b[0m\u001b[0;34m=\u001b[0m\u001b[0;34m'left'\u001b[0m\u001b[0;34m)\u001b[0m\u001b[0;34m\u001b[0m\u001b[0;34m\u001b[0m\u001b[0m\n\u001b[0m",
            "\u001b[0;32m/usr/local/lib/python3.8/dist-packages/pandas/core/frame.py\u001b[0m in \u001b[0;36mmerge\u001b[0;34m(self, right, how, on, left_on, right_on, left_index, right_index, sort, suffixes, copy, indicator, validate)\u001b[0m\n\u001b[1;32m   9188\u001b[0m         \u001b[0;32mfrom\u001b[0m \u001b[0mpandas\u001b[0m\u001b[0;34m.\u001b[0m\u001b[0mcore\u001b[0m\u001b[0;34m.\u001b[0m\u001b[0mreshape\u001b[0m\u001b[0;34m.\u001b[0m\u001b[0mmerge\u001b[0m \u001b[0;32mimport\u001b[0m \u001b[0mmerge\u001b[0m\u001b[0;34m\u001b[0m\u001b[0;34m\u001b[0m\u001b[0m\n\u001b[1;32m   9189\u001b[0m \u001b[0;34m\u001b[0m\u001b[0m\n\u001b[0;32m-> 9190\u001b[0;31m         return merge(\n\u001b[0m\u001b[1;32m   9191\u001b[0m             \u001b[0mself\u001b[0m\u001b[0;34m,\u001b[0m\u001b[0;34m\u001b[0m\u001b[0;34m\u001b[0m\u001b[0m\n\u001b[1;32m   9192\u001b[0m             \u001b[0mright\u001b[0m\u001b[0;34m,\u001b[0m\u001b[0;34m\u001b[0m\u001b[0;34m\u001b[0m\u001b[0m\n",
            "\u001b[0;32m/usr/local/lib/python3.8/dist-packages/pandas/core/reshape/merge.py\u001b[0m in \u001b[0;36mmerge\u001b[0;34m(left, right, how, on, left_on, right_on, left_index, right_index, sort, suffixes, copy, indicator, validate)\u001b[0m\n\u001b[1;32m    104\u001b[0m     \u001b[0mvalidate\u001b[0m\u001b[0;34m:\u001b[0m \u001b[0mstr\u001b[0m \u001b[0;34m|\u001b[0m \u001b[0;32mNone\u001b[0m \u001b[0;34m=\u001b[0m \u001b[0;32mNone\u001b[0m\u001b[0;34m,\u001b[0m\u001b[0;34m\u001b[0m\u001b[0;34m\u001b[0m\u001b[0m\n\u001b[1;32m    105\u001b[0m ) -> DataFrame:\n\u001b[0;32m--> 106\u001b[0;31m     op = _MergeOperation(\n\u001b[0m\u001b[1;32m    107\u001b[0m         \u001b[0mleft\u001b[0m\u001b[0;34m,\u001b[0m\u001b[0;34m\u001b[0m\u001b[0;34m\u001b[0m\u001b[0m\n\u001b[1;32m    108\u001b[0m         \u001b[0mright\u001b[0m\u001b[0;34m,\u001b[0m\u001b[0;34m\u001b[0m\u001b[0;34m\u001b[0m\u001b[0m\n",
            "\u001b[0;32m/usr/local/lib/python3.8/dist-packages/pandas/core/reshape/merge.py\u001b[0m in \u001b[0;36m__init__\u001b[0;34m(self, left, right, how, on, left_on, right_on, axis, left_index, right_index, sort, suffixes, copy, indicator, validate)\u001b[0m\n\u001b[1;32m    697\u001b[0m             \u001b[0mself\u001b[0m\u001b[0;34m.\u001b[0m\u001b[0mright_join_keys\u001b[0m\u001b[0;34m,\u001b[0m\u001b[0;34m\u001b[0m\u001b[0;34m\u001b[0m\u001b[0m\n\u001b[1;32m    698\u001b[0m             \u001b[0mself\u001b[0m\u001b[0;34m.\u001b[0m\u001b[0mjoin_names\u001b[0m\u001b[0;34m,\u001b[0m\u001b[0;34m\u001b[0m\u001b[0;34m\u001b[0m\u001b[0m\n\u001b[0;32m--> 699\u001b[0;31m         ) = self._get_merge_keys()\n\u001b[0m\u001b[1;32m    700\u001b[0m \u001b[0;34m\u001b[0m\u001b[0m\n\u001b[1;32m    701\u001b[0m         \u001b[0;31m# validate the merge keys dtypes. We may need to coerce\u001b[0m\u001b[0;34m\u001b[0m\u001b[0;34m\u001b[0m\u001b[0;34m\u001b[0m\u001b[0m\n",
            "\u001b[0;32m/usr/local/lib/python3.8/dist-packages/pandas/core/reshape/merge.py\u001b[0m in \u001b[0;36m_get_merge_keys\u001b[0;34m(self)\u001b[0m\n\u001b[1;32m   1094\u001b[0m                     \u001b[0;32mif\u001b[0m \u001b[0;32mnot\u001b[0m \u001b[0mis_rkey\u001b[0m\u001b[0;34m(\u001b[0m\u001b[0mrk\u001b[0m\u001b[0;34m)\u001b[0m\u001b[0;34m:\u001b[0m\u001b[0;34m\u001b[0m\u001b[0;34m\u001b[0m\u001b[0m\n\u001b[1;32m   1095\u001b[0m                         \u001b[0;32mif\u001b[0m \u001b[0mrk\u001b[0m \u001b[0;32mis\u001b[0m \u001b[0;32mnot\u001b[0m \u001b[0;32mNone\u001b[0m\u001b[0;34m:\u001b[0m\u001b[0;34m\u001b[0m\u001b[0;34m\u001b[0m\u001b[0m\n\u001b[0;32m-> 1096\u001b[0;31m                             \u001b[0mright_keys\u001b[0m\u001b[0;34m.\u001b[0m\u001b[0mappend\u001b[0m\u001b[0;34m(\u001b[0m\u001b[0mright\u001b[0m\u001b[0;34m.\u001b[0m\u001b[0m_get_label_or_level_values\u001b[0m\u001b[0;34m(\u001b[0m\u001b[0mrk\u001b[0m\u001b[0;34m)\u001b[0m\u001b[0;34m)\u001b[0m\u001b[0;34m\u001b[0m\u001b[0;34m\u001b[0m\u001b[0m\n\u001b[0m\u001b[1;32m   1097\u001b[0m                         \u001b[0;32melse\u001b[0m\u001b[0;34m:\u001b[0m\u001b[0;34m\u001b[0m\u001b[0;34m\u001b[0m\u001b[0m\n\u001b[1;32m   1098\u001b[0m                             \u001b[0;31m# work-around for merge_asof(right_index=True)\u001b[0m\u001b[0;34m\u001b[0m\u001b[0;34m\u001b[0m\u001b[0;34m\u001b[0m\u001b[0m\n",
            "\u001b[0;32m/usr/local/lib/python3.8/dist-packages/pandas/core/generic.py\u001b[0m in \u001b[0;36m_get_label_or_level_values\u001b[0;34m(self, key, axis)\u001b[0m\n\u001b[1;32m   1772\u001b[0m \u001b[0;34m\u001b[0m\u001b[0m\n\u001b[1;32m   1773\u001b[0m         \u001b[0;32mif\u001b[0m \u001b[0mself\u001b[0m\u001b[0;34m.\u001b[0m\u001b[0m_is_label_reference\u001b[0m\u001b[0;34m(\u001b[0m\u001b[0mkey\u001b[0m\u001b[0;34m,\u001b[0m \u001b[0maxis\u001b[0m\u001b[0;34m=\u001b[0m\u001b[0maxis\u001b[0m\u001b[0;34m)\u001b[0m\u001b[0;34m:\u001b[0m\u001b[0;34m\u001b[0m\u001b[0;34m\u001b[0m\u001b[0m\n\u001b[0;32m-> 1774\u001b[0;31m             \u001b[0mself\u001b[0m\u001b[0;34m.\u001b[0m\u001b[0m_check_label_or_level_ambiguity\u001b[0m\u001b[0;34m(\u001b[0m\u001b[0mkey\u001b[0m\u001b[0;34m,\u001b[0m \u001b[0maxis\u001b[0m\u001b[0;34m=\u001b[0m\u001b[0maxis\u001b[0m\u001b[0;34m)\u001b[0m\u001b[0;34m\u001b[0m\u001b[0;34m\u001b[0m\u001b[0m\n\u001b[0m\u001b[1;32m   1775\u001b[0m             \u001b[0mvalues\u001b[0m \u001b[0;34m=\u001b[0m \u001b[0mself\u001b[0m\u001b[0;34m.\u001b[0m\u001b[0mxs\u001b[0m\u001b[0;34m(\u001b[0m\u001b[0mkey\u001b[0m\u001b[0;34m,\u001b[0m \u001b[0maxis\u001b[0m\u001b[0;34m=\u001b[0m\u001b[0mother_axes\u001b[0m\u001b[0;34m[\u001b[0m\u001b[0;36m0\u001b[0m\u001b[0;34m]\u001b[0m\u001b[0;34m)\u001b[0m\u001b[0;34m.\u001b[0m\u001b[0m_values\u001b[0m\u001b[0;34m\u001b[0m\u001b[0;34m\u001b[0m\u001b[0m\n\u001b[1;32m   1776\u001b[0m         \u001b[0;32melif\u001b[0m \u001b[0mself\u001b[0m\u001b[0;34m.\u001b[0m\u001b[0m_is_level_reference\u001b[0m\u001b[0;34m(\u001b[0m\u001b[0mkey\u001b[0m\u001b[0;34m,\u001b[0m \u001b[0maxis\u001b[0m\u001b[0;34m=\u001b[0m\u001b[0maxis\u001b[0m\u001b[0;34m)\u001b[0m\u001b[0;34m:\u001b[0m\u001b[0;34m\u001b[0m\u001b[0;34m\u001b[0m\u001b[0m\n",
            "\u001b[0;32m/usr/local/lib/python3.8/dist-packages/pandas/core/generic.py\u001b[0m in \u001b[0;36m_check_label_or_level_ambiguity\u001b[0;34m(self, key, axis)\u001b[0m\n\u001b[1;32m   1731\u001b[0m                 \u001b[0;34mf\"{label_article} {label_type} label, which is ambiguous.\"\u001b[0m\u001b[0;34m\u001b[0m\u001b[0;34m\u001b[0m\u001b[0m\n\u001b[1;32m   1732\u001b[0m             )\n\u001b[0;32m-> 1733\u001b[0;31m             \u001b[0;32mraise\u001b[0m \u001b[0mValueError\u001b[0m\u001b[0;34m(\u001b[0m\u001b[0mmsg\u001b[0m\u001b[0;34m)\u001b[0m\u001b[0;34m\u001b[0m\u001b[0;34m\u001b[0m\u001b[0m\n\u001b[0m\u001b[1;32m   1734\u001b[0m \u001b[0;34m\u001b[0m\u001b[0m\n\u001b[1;32m   1735\u001b[0m     \u001b[0;34m@\u001b[0m\u001b[0mfinal\u001b[0m\u001b[0;34m\u001b[0m\u001b[0;34m\u001b[0m\u001b[0m\n",
            "\u001b[0;31mValueError\u001b[0m: 'minute' is both an index level and a column label, which is ambiguous."
          ]
        }
      ]
    },
    {
      "cell_type": "code",
      "source": [
        "event_id 6044797\n",
        "session_id 3586748\n",
        "transaction_date 86400\n",
        "event_type_id 26\n",
        "product_id 2008439\n",
        "title_product_id 21187\n",
        "country_code_id 312\n",
        "ip_address 1130066\n",
        "auth_session_id 3213231\n",
        "day 1\n",
        "hour 24\n",
        "minute 60\n",
        "second 60"
      ],
      "metadata": {
        "colab": {
          "base_uri": "https://localhost:8080/",
          "height": 131
        },
        "id": "y2gJLxUS2Wex",
        "outputId": "cc7d581d-e93f-4e0e-9236-a80991da0b99"
      },
      "execution_count": null,
      "outputs": [
        {
          "output_type": "error",
          "ename": "SyntaxError",
          "evalue": "ignored",
          "traceback": [
            "\u001b[0;36m  File \u001b[0;32m\"<ipython-input-56-d6c0fe5c626d>\"\u001b[0;36m, line \u001b[0;32m1\u001b[0m\n\u001b[0;31m    event_id 6044797\u001b[0m\n\u001b[0m             ^\u001b[0m\n\u001b[0;31mSyntaxError\u001b[0m\u001b[0;31m:\u001b[0m invalid syntax\n"
          ]
        }
      ]
    },
    {
      "cell_type": "code",
      "source": [
        "df_fe.info(null_counts=True)"
      ],
      "metadata": {
        "colab": {
          "base_uri": "https://localhost:8080/"
        },
        "id": "8bDfdtWbF5u2",
        "outputId": "0983596c-2e69-4580-b6cc-e1a7b5fe5d1d"
      },
      "execution_count": 17,
      "outputs": [
        {
          "output_type": "stream",
          "name": "stdout",
          "text": [
            "<class 'pandas.core.frame.DataFrame'>\n",
            "RangeIndex: 6044797 entries, 0 to 6044796\n",
            "Data columns (total 10 columns):\n",
            " #   Column            Non-Null Count    Dtype \n",
            "---  ------            --------------    ----- \n",
            " 0   session_id        6044797 non-null  object\n",
            " 1   event_type_id     6043230 non-null  object\n",
            " 2   product_id        6044797 non-null  int64 \n",
            " 3   title_product_id  6044797 non-null  int64 \n",
            " 4   country_code_id   6044462 non-null  object\n",
            " 5   ip_address        6044797 non-null  object\n",
            " 6   auth_session_id   5958585 non-null  object\n",
            " 7   hour              6044797 non-null  int64 \n",
            " 8   minute            6044797 non-null  int64 \n",
            " 9   second            6044797 non-null  int64 \n",
            "dtypes: int64(5), object(5)\n",
            "memory usage: 461.2+ MB\n"
          ]
        },
        {
          "output_type": "stream",
          "name": "stderr",
          "text": [
            "<ipython-input-17-c42737314e3e>:1: FutureWarning: null_counts is deprecated. Use show_counts instead\n",
            "  df_fe.info(null_counts=True)\n"
          ]
        }
      ]
    },
    {
      "cell_type": "code",
      "source": [
        "from sklearn.preprocessing import LabelEncoder\n",
        "for col in ['session_id', 'event_type_id', 'product_id', 'title_product_id', 'country_code_id', 'ip_address', 'auth_session_id']:\n",
        "  le = LabelEncoder()\n",
        "  df_fe[col] = le.fit_transform(df_fe[col])"
      ],
      "metadata": {
        "id": "iydjcwNYuMIH"
      },
      "execution_count": 18,
      "outputs": []
    },
    {
      "cell_type": "code",
      "source": [
        "df_fe.to_parquet('/content/drive/MyDrive/datathon - final/df_encoded.parquet', index=False)"
      ],
      "metadata": {
        "id": "nZ1bpgu4GvLw"
      },
      "execution_count": 20,
      "outputs": []
    },
    {
      "cell_type": "code",
      "source": [
        "cols = df_fe.columns"
      ],
      "metadata": {
        "id": "TokwQCXCG-Kb"
      },
      "execution_count": 22,
      "outputs": []
    },
    {
      "cell_type": "code",
      "source": [
        "from sklearn.preprocessing import MinMaxScaler\n",
        "\n",
        "ms = MinMaxScaler()\n",
        "\n",
        "X = ms.fit_transform(df_fe)\n",
        "\n",
        "X = pd.DataFrame(X, columns=[cols])"
      ],
      "metadata": {
        "id": "veZzFXpdHRE_"
      },
      "execution_count": 23,
      "outputs": []
    },
    {
      "cell_type": "code",
      "source": [
        "X.head()"
      ],
      "metadata": {
        "colab": {
          "base_uri": "https://localhost:8080/",
          "height": 206
        },
        "id": "CeTflaHlHQ7V",
        "outputId": "5233b168-11ca-46fe-9d96-36e09e89a344"
      },
      "execution_count": 24,
      "outputs": [
        {
          "output_type": "execute_result",
          "data": {
            "text/plain": [
              "  session_id event_type_id product_id title_product_id country_code_id  \\\n",
              "0   0.000662      0.384615   0.068731         0.010573        0.166667   \n",
              "1   0.000352      0.461538   0.674984         0.414000        0.131410   \n",
              "2   0.001130      0.461538   0.968329         0.385018        0.916667   \n",
              "3   0.001130      0.538462   0.008851         0.397243        0.583333   \n",
              "4   0.000857      0.384615   0.528087         0.603087        0.166667   \n",
              "\n",
              "  ip_address auth_session_id hour minute second  \n",
              "0   0.618831        0.210554  0.0    0.0    0.0  \n",
              "1   0.687136        0.210335  0.0    0.0    0.0  \n",
              "2   0.549644        0.210858  0.0    0.0    0.0  \n",
              "3   0.528085        0.210858  0.0    0.0    0.0  \n",
              "4   0.195838        0.210986  0.0    0.0    0.0  "
            ],
            "text/html": [
              "\n",
              "  <div id=\"df-61b74659-3b3f-40d1-8f7d-32bacf787070\">\n",
              "    <div class=\"colab-df-container\">\n",
              "      <div>\n",
              "<style scoped>\n",
              "    .dataframe tbody tr th:only-of-type {\n",
              "        vertical-align: middle;\n",
              "    }\n",
              "\n",
              "    .dataframe tbody tr th {\n",
              "        vertical-align: top;\n",
              "    }\n",
              "\n",
              "    .dataframe thead tr th {\n",
              "        text-align: left;\n",
              "    }\n",
              "</style>\n",
              "<table border=\"1\" class=\"dataframe\">\n",
              "  <thead>\n",
              "    <tr>\n",
              "      <th></th>\n",
              "      <th>session_id</th>\n",
              "      <th>event_type_id</th>\n",
              "      <th>product_id</th>\n",
              "      <th>title_product_id</th>\n",
              "      <th>country_code_id</th>\n",
              "      <th>ip_address</th>\n",
              "      <th>auth_session_id</th>\n",
              "      <th>hour</th>\n",
              "      <th>minute</th>\n",
              "      <th>second</th>\n",
              "    </tr>\n",
              "  </thead>\n",
              "  <tbody>\n",
              "    <tr>\n",
              "      <th>0</th>\n",
              "      <td>0.000662</td>\n",
              "      <td>0.384615</td>\n",
              "      <td>0.068731</td>\n",
              "      <td>0.010573</td>\n",
              "      <td>0.166667</td>\n",
              "      <td>0.618831</td>\n",
              "      <td>0.210554</td>\n",
              "      <td>0.0</td>\n",
              "      <td>0.0</td>\n",
              "      <td>0.0</td>\n",
              "    </tr>\n",
              "    <tr>\n",
              "      <th>1</th>\n",
              "      <td>0.000352</td>\n",
              "      <td>0.461538</td>\n",
              "      <td>0.674984</td>\n",
              "      <td>0.414000</td>\n",
              "      <td>0.131410</td>\n",
              "      <td>0.687136</td>\n",
              "      <td>0.210335</td>\n",
              "      <td>0.0</td>\n",
              "      <td>0.0</td>\n",
              "      <td>0.0</td>\n",
              "    </tr>\n",
              "    <tr>\n",
              "      <th>2</th>\n",
              "      <td>0.001130</td>\n",
              "      <td>0.461538</td>\n",
              "      <td>0.968329</td>\n",
              "      <td>0.385018</td>\n",
              "      <td>0.916667</td>\n",
              "      <td>0.549644</td>\n",
              "      <td>0.210858</td>\n",
              "      <td>0.0</td>\n",
              "      <td>0.0</td>\n",
              "      <td>0.0</td>\n",
              "    </tr>\n",
              "    <tr>\n",
              "      <th>3</th>\n",
              "      <td>0.001130</td>\n",
              "      <td>0.538462</td>\n",
              "      <td>0.008851</td>\n",
              "      <td>0.397243</td>\n",
              "      <td>0.583333</td>\n",
              "      <td>0.528085</td>\n",
              "      <td>0.210858</td>\n",
              "      <td>0.0</td>\n",
              "      <td>0.0</td>\n",
              "      <td>0.0</td>\n",
              "    </tr>\n",
              "    <tr>\n",
              "      <th>4</th>\n",
              "      <td>0.000857</td>\n",
              "      <td>0.384615</td>\n",
              "      <td>0.528087</td>\n",
              "      <td>0.603087</td>\n",
              "      <td>0.166667</td>\n",
              "      <td>0.195838</td>\n",
              "      <td>0.210986</td>\n",
              "      <td>0.0</td>\n",
              "      <td>0.0</td>\n",
              "      <td>0.0</td>\n",
              "    </tr>\n",
              "  </tbody>\n",
              "</table>\n",
              "</div>\n",
              "      <button class=\"colab-df-convert\" onclick=\"convertToInteractive('df-61b74659-3b3f-40d1-8f7d-32bacf787070')\"\n",
              "              title=\"Convert this dataframe to an interactive table.\"\n",
              "              style=\"display:none;\">\n",
              "        \n",
              "  <svg xmlns=\"http://www.w3.org/2000/svg\" height=\"24px\"viewBox=\"0 0 24 24\"\n",
              "       width=\"24px\">\n",
              "    <path d=\"M0 0h24v24H0V0z\" fill=\"none\"/>\n",
              "    <path d=\"M18.56 5.44l.94 2.06.94-2.06 2.06-.94-2.06-.94-.94-2.06-.94 2.06-2.06.94zm-11 1L8.5 8.5l.94-2.06 2.06-.94-2.06-.94L8.5 2.5l-.94 2.06-2.06.94zm10 10l.94 2.06.94-2.06 2.06-.94-2.06-.94-.94-2.06-.94 2.06-2.06.94z\"/><path d=\"M17.41 7.96l-1.37-1.37c-.4-.4-.92-.59-1.43-.59-.52 0-1.04.2-1.43.59L10.3 9.45l-7.72 7.72c-.78.78-.78 2.05 0 2.83L4 21.41c.39.39.9.59 1.41.59.51 0 1.02-.2 1.41-.59l7.78-7.78 2.81-2.81c.8-.78.8-2.07 0-2.86zM5.41 20L4 18.59l7.72-7.72 1.47 1.35L5.41 20z\"/>\n",
              "  </svg>\n",
              "      </button>\n",
              "      \n",
              "  <style>\n",
              "    .colab-df-container {\n",
              "      display:flex;\n",
              "      flex-wrap:wrap;\n",
              "      gap: 12px;\n",
              "    }\n",
              "\n",
              "    .colab-df-convert {\n",
              "      background-color: #E8F0FE;\n",
              "      border: none;\n",
              "      border-radius: 50%;\n",
              "      cursor: pointer;\n",
              "      display: none;\n",
              "      fill: #1967D2;\n",
              "      height: 32px;\n",
              "      padding: 0 0 0 0;\n",
              "      width: 32px;\n",
              "    }\n",
              "\n",
              "    .colab-df-convert:hover {\n",
              "      background-color: #E2EBFA;\n",
              "      box-shadow: 0px 1px 2px rgba(60, 64, 67, 0.3), 0px 1px 3px 1px rgba(60, 64, 67, 0.15);\n",
              "      fill: #174EA6;\n",
              "    }\n",
              "\n",
              "    [theme=dark] .colab-df-convert {\n",
              "      background-color: #3B4455;\n",
              "      fill: #D2E3FC;\n",
              "    }\n",
              "\n",
              "    [theme=dark] .colab-df-convert:hover {\n",
              "      background-color: #434B5C;\n",
              "      box-shadow: 0px 1px 3px 1px rgba(0, 0, 0, 0.15);\n",
              "      filter: drop-shadow(0px 1px 2px rgba(0, 0, 0, 0.3));\n",
              "      fill: #FFFFFF;\n",
              "    }\n",
              "  </style>\n",
              "\n",
              "      <script>\n",
              "        const buttonEl =\n",
              "          document.querySelector('#df-61b74659-3b3f-40d1-8f7d-32bacf787070 button.colab-df-convert');\n",
              "        buttonEl.style.display =\n",
              "          google.colab.kernel.accessAllowed ? 'block' : 'none';\n",
              "\n",
              "        async function convertToInteractive(key) {\n",
              "          const element = document.querySelector('#df-61b74659-3b3f-40d1-8f7d-32bacf787070');\n",
              "          const dataTable =\n",
              "            await google.colab.kernel.invokeFunction('convertToInteractive',\n",
              "                                                     [key], {});\n",
              "          if (!dataTable) return;\n",
              "\n",
              "          const docLinkHtml = 'Like what you see? Visit the ' +\n",
              "            '<a target=\"_blank\" href=https://colab.research.google.com/notebooks/data_table.ipynb>data table notebook</a>'\n",
              "            + ' to learn more about interactive tables.';\n",
              "          element.innerHTML = '';\n",
              "          dataTable['output_type'] = 'display_data';\n",
              "          await google.colab.output.renderOutput(dataTable, element);\n",
              "          const docLink = document.createElement('div');\n",
              "          docLink.innerHTML = docLinkHtml;\n",
              "          element.appendChild(docLink);\n",
              "        }\n",
              "      </script>\n",
              "    </div>\n",
              "  </div>\n",
              "  "
            ]
          },
          "metadata": {},
          "execution_count": 24
        }
      ]
    },
    {
      "cell_type": "code",
      "source": [
        "from sklearn.cluster import KMeans\n",
        "\n",
        "kmeans = KMeans(n_clusters=2, random_state=0) \n",
        "\n",
        "kmeans.fit(X)"
      ],
      "metadata": {
        "colab": {
          "base_uri": "https://localhost:8080/"
        },
        "id": "y5MhmaXQIZd-",
        "outputId": "b8aa6385-cdc6-4b2f-8847-70c588e094fa"
      },
      "execution_count": 25,
      "outputs": [
        {
          "output_type": "stream",
          "name": "stderr",
          "text": [
            "/usr/local/lib/python3.8/dist-packages/sklearn/utils/validation.py:1688: FutureWarning: Feature names only support names that are all strings. Got feature names with dtypes: ['tuple']. An error will be raised in 1.2.\n",
            "  warnings.warn(\n"
          ]
        },
        {
          "output_type": "execute_result",
          "data": {
            "text/plain": [
              "KMeans(n_clusters=2, random_state=0)"
            ]
          },
          "metadata": {},
          "execution_count": 25
        }
      ]
    },
    {
      "cell_type": "code",
      "source": [
        "kmeans.cluster_centers_"
      ],
      "metadata": {
        "colab": {
          "base_uri": "https://localhost:8080/"
        },
        "id": "i0256MpEIic8",
        "outputId": "0d62dba1-a054-48a9-aa1a-8c5c743b62e4"
      },
      "execution_count": 26,
      "outputs": [
        {
          "output_type": "execute_result",
          "data": {
            "text/plain": [
              "array([[0.74662141, 0.29676654, 0.50156501, 0.32370131, 0.45706946,\n",
              "        0.46897546, 0.64613762, 0.74521832, 0.50343695, 0.5009501 ],\n",
              "       [0.27823791, 0.2957901 , 0.55735158, 0.31772818, 0.41948027,\n",
              "        0.47975417, 0.26102538, 0.28759549, 0.49988083, 0.50114515]])"
            ]
          },
          "metadata": {},
          "execution_count": 26
        }
      ]
    },
    {
      "cell_type": "code",
      "source": [
        "kmeans.inertia_"
      ],
      "metadata": {
        "colab": {
          "base_uri": "https://localhost:8080/"
        },
        "id": "Qfw5VjDeIiZ7",
        "outputId": "decbbcce-29b8-417e-e9fe-b1424b337a20"
      },
      "execution_count": 27,
      "outputs": [
        {
          "output_type": "execute_result",
          "data": {
            "text/plain": [
              "4025760.569240666"
            ]
          },
          "metadata": {},
          "execution_count": 27
        }
      ]
    },
    {
      "cell_type": "code",
      "source": [
        "np.size(labels)"
      ],
      "metadata": {
        "colab": {
          "base_uri": "https://localhost:8080/"
        },
        "id": "r4JEkGWHKZIU",
        "outputId": "620f3013-280b-4108-9700-ff0f7c5b77c0"
      },
      "execution_count": 33,
      "outputs": [
        {
          "output_type": "execute_result",
          "data": {
            "text/plain": [
              "6044797"
            ]
          },
          "metadata": {},
          "execution_count": 33
        }
      ]
    },
    {
      "cell_type": "code",
      "source": [
        "unique, counts = np.unique(labels, return_counts=True)\n",
        "\n",
        "dict(zip(unique, counts))"
      ],
      "metadata": {
        "colab": {
          "base_uri": "https://localhost:8080/"
        },
        "id": "_HMAb79VLAUq",
        "outputId": "574491a6-c730-433c-d61c-f380ff3734bc"
      },
      "execution_count": 35,
      "outputs": [
        {
          "output_type": "execute_result",
          "data": {
            "text/plain": [
              "{0: 2693036, 1: 3351761}"
            ]
          },
          "metadata": {},
          "execution_count": 35
        }
      ]
    },
    {
      "cell_type": "code",
      "source": [
        "labels"
      ],
      "metadata": {
        "colab": {
          "base_uri": "https://localhost:8080/"
        },
        "id": "BbgM8UG9Q9Yd",
        "outputId": "98676c08-3c4b-46b3-ec71-b9679868dd33"
      },
      "execution_count": 46,
      "outputs": [
        {
          "output_type": "execute_result",
          "data": {
            "text/plain": [
              "array([1, 1, 1, ..., 0, 0, 0], dtype=int32)"
            ]
          },
          "metadata": {},
          "execution_count": 46
        }
      ]
    },
    {
      "cell_type": "code",
      "source": [
        "df_fe.to_parquet('/content/drive/MyDrive/datathon - final/df_encoded.parquet', index=False)"
      ],
      "metadata": {
        "id": "oQBbBOpPLKJ2"
      },
      "execution_count": null,
      "outputs": []
    },
    {
      "cell_type": "code",
      "source": [
        "dict(zip(unique, counts))"
      ],
      "metadata": {
        "colab": {
          "base_uri": "https://localhost:8080/"
        },
        "id": "1YI2e5EQK1Uf",
        "outputId": "9c5709af-98ff-4f00-90d7-bfb2aefc3e15"
      },
      "execution_count": 34,
      "outputs": [
        {
          "output_type": "execute_result",
          "data": {
            "text/plain": [
              "{0: 1, 1: 1}"
            ]
          },
          "metadata": {},
          "execution_count": 34
        }
      ]
    },
    {
      "cell_type": "code",
      "source": [
        "df_result = pd.DataFrame()\n",
        "df_result['event_id'] = df['event_id']\n",
        "df_result['crawler_flag'] = labels"
      ],
      "metadata": {
        "id": "k8FwbdYyRE_C"
      },
      "execution_count": 39,
      "outputs": []
    },
    {
      "cell_type": "code",
      "source": [
        "df_result.to_parquet('/content/drive/MyDrive/datathon - final/df_result.parquet', index=False)"
      ],
      "metadata": {
        "id": "7UkLaNlHRbdb"
      },
      "execution_count": 41,
      "outputs": []
    },
    {
      "cell_type": "code",
      "source": [
        "df_result.to_"
      ],
      "metadata": {
        "id": "28TPPTT2RfCv"
      },
      "execution_count": null,
      "outputs": []
    },
    {
      "cell_type": "code",
      "source": [
        "labels = kmeans.labels_\n",
        "\n",
        "# check how many of the samples were correctly labeled\n",
        "correct_labels = sum(y == labels)\n",
        "\n",
        "print(\"Result: %d out of %d samples were correctly labeled.\" % (correct_labels, y.size))"
      ],
      "metadata": {
        "colab": {
          "base_uri": "https://localhost:8080/",
          "height": 235
        },
        "id": "O2_1--4_IiWx",
        "outputId": "4e0d3d7c-771f-4bd2-c7b6-f95580a0a1a1"
      },
      "execution_count": 28,
      "outputs": [
        {
          "output_type": "error",
          "ename": "NameError",
          "evalue": "ignored",
          "traceback": [
            "\u001b[0;31m---------------------------------------------------------------------------\u001b[0m",
            "\u001b[0;31mNameError\u001b[0m                                 Traceback (most recent call last)",
            "\u001b[0;32m<ipython-input-28-0b7e0c0f1434>\u001b[0m in \u001b[0;36m<module>\u001b[0;34m\u001b[0m\n\u001b[1;32m      2\u001b[0m \u001b[0;34m\u001b[0m\u001b[0m\n\u001b[1;32m      3\u001b[0m \u001b[0;31m# check how many of the samples were correctly labeled\u001b[0m\u001b[0;34m\u001b[0m\u001b[0;34m\u001b[0m\u001b[0;34m\u001b[0m\u001b[0m\n\u001b[0;32m----> 4\u001b[0;31m \u001b[0mcorrect_labels\u001b[0m \u001b[0;34m=\u001b[0m \u001b[0msum\u001b[0m\u001b[0;34m(\u001b[0m\u001b[0my\u001b[0m \u001b[0;34m==\u001b[0m \u001b[0mlabels\u001b[0m\u001b[0;34m)\u001b[0m\u001b[0;34m\u001b[0m\u001b[0;34m\u001b[0m\u001b[0m\n\u001b[0m\u001b[1;32m      5\u001b[0m \u001b[0;34m\u001b[0m\u001b[0m\n\u001b[1;32m      6\u001b[0m \u001b[0mprint\u001b[0m\u001b[0;34m(\u001b[0m\u001b[0;34m\"Result: %d out of %d samples were correctly labeled.\"\u001b[0m \u001b[0;34m%\u001b[0m \u001b[0;34m(\u001b[0m\u001b[0mcorrect_labels\u001b[0m\u001b[0;34m,\u001b[0m \u001b[0my\u001b[0m\u001b[0;34m.\u001b[0m\u001b[0msize\u001b[0m\u001b[0;34m)\u001b[0m\u001b[0;34m)\u001b[0m\u001b[0;34m\u001b[0m\u001b[0;34m\u001b[0m\u001b[0m\n",
            "\u001b[0;31mNameError\u001b[0m: name 'y' is not defined"
          ]
        }
      ]
    },
    {
      "cell_type": "code",
      "source": [
        "sid_list = []\n",
        "for sid in df['session_id'].unique():\n",
        "  uni =  df[df['session_id'] == sid]['ip_address'].nunique()\n",
        "  if uni > 1:\n",
        "    sid_list.append(sid)\n",
        "    print(sid, uni)"
      ],
      "metadata": {
        "colab": {
          "base_uri": "https://localhost:8080/",
          "height": 988
        },
        "id": "Pr0zYZcxItcj",
        "outputId": "70d48dc4-85b1-4c1b-a617-4708e7a77ab1"
      },
      "execution_count": 47,
      "outputs": [
        {
          "output_type": "stream",
          "name": "stdout",
          "text": [
            "3506402690 3\n",
            "3506906504 2\n",
            "3507029629 2\n",
            "3507028359 2\n",
            "3507038161 2\n",
            "3507017441 2\n",
            "3507030766 2\n",
            "3506935799 2\n",
            "3507038909 2\n",
            "3506930790 2\n",
            "3506996723 9\n",
            "3507039821 2\n",
            "3507037916 2\n",
            "3507038957 2\n",
            "3506985527 2\n",
            "3507039717 2\n",
            "3507039868 2\n",
            "3507031940 3\n",
            "3507010158 3\n",
            "3506911327 5\n",
            "3507039681 2\n",
            "3507039973 3\n",
            "3507036931 3\n",
            "3506968018 3\n",
            "3507029964 2\n",
            "3507040838 2\n",
            "3507040858 2\n",
            "3507038447 2\n",
            "3507030932 2\n",
            "3507027873 2\n",
            "3506961621 2\n",
            "3507040092 2\n",
            "3507034639 3\n",
            "3507026463 2\n",
            "3507040951 3\n"
          ]
        },
        {
          "output_type": "error",
          "ename": "KeyboardInterrupt",
          "evalue": "ignored",
          "traceback": [
            "\u001b[0;31m---------------------------------------------------------------------------\u001b[0m",
            "\u001b[0;31mKeyboardInterrupt\u001b[0m                         Traceback (most recent call last)",
            "\u001b[0;32m<ipython-input-47-d900951caed7>\u001b[0m in \u001b[0;36m<module>\u001b[0;34m\u001b[0m\n\u001b[1;32m      1\u001b[0m \u001b[0msid_list\u001b[0m \u001b[0;34m=\u001b[0m \u001b[0;34m[\u001b[0m\u001b[0;34m]\u001b[0m\u001b[0;34m\u001b[0m\u001b[0;34m\u001b[0m\u001b[0m\n\u001b[1;32m      2\u001b[0m \u001b[0;32mfor\u001b[0m \u001b[0msid\u001b[0m \u001b[0;32min\u001b[0m \u001b[0mdf\u001b[0m\u001b[0;34m[\u001b[0m\u001b[0;34m'session_id'\u001b[0m\u001b[0;34m]\u001b[0m\u001b[0;34m.\u001b[0m\u001b[0munique\u001b[0m\u001b[0;34m(\u001b[0m\u001b[0;34m)\u001b[0m\u001b[0;34m:\u001b[0m\u001b[0;34m\u001b[0m\u001b[0;34m\u001b[0m\u001b[0m\n\u001b[0;32m----> 3\u001b[0;31m   \u001b[0muni\u001b[0m \u001b[0;34m=\u001b[0m  \u001b[0mdf\u001b[0m\u001b[0;34m[\u001b[0m\u001b[0mdf\u001b[0m\u001b[0;34m[\u001b[0m\u001b[0;34m'session_id'\u001b[0m\u001b[0;34m]\u001b[0m \u001b[0;34m==\u001b[0m \u001b[0msid\u001b[0m\u001b[0;34m]\u001b[0m\u001b[0;34m[\u001b[0m\u001b[0;34m'ip_address'\u001b[0m\u001b[0;34m]\u001b[0m\u001b[0;34m.\u001b[0m\u001b[0mnunique\u001b[0m\u001b[0;34m(\u001b[0m\u001b[0;34m)\u001b[0m\u001b[0;34m\u001b[0m\u001b[0;34m\u001b[0m\u001b[0m\n\u001b[0m\u001b[1;32m      4\u001b[0m   \u001b[0;32mif\u001b[0m \u001b[0muni\u001b[0m \u001b[0;34m>\u001b[0m \u001b[0;36m1\u001b[0m\u001b[0;34m:\u001b[0m\u001b[0;34m\u001b[0m\u001b[0;34m\u001b[0m\u001b[0m\n\u001b[1;32m      5\u001b[0m     \u001b[0msid_list\u001b[0m\u001b[0;34m.\u001b[0m\u001b[0mappend\u001b[0m\u001b[0;34m(\u001b[0m\u001b[0msid\u001b[0m\u001b[0;34m)\u001b[0m\u001b[0;34m\u001b[0m\u001b[0;34m\u001b[0m\u001b[0m\n",
            "\u001b[0;32m/usr/local/lib/python3.8/dist-packages/pandas/core/ops/common.py\u001b[0m in \u001b[0;36mnew_method\u001b[0;34m(self, other)\u001b[0m\n\u001b[1;32m     67\u001b[0m         \u001b[0mother\u001b[0m \u001b[0;34m=\u001b[0m \u001b[0mitem_from_zerodim\u001b[0m\u001b[0;34m(\u001b[0m\u001b[0mother\u001b[0m\u001b[0;34m)\u001b[0m\u001b[0;34m\u001b[0m\u001b[0;34m\u001b[0m\u001b[0m\n\u001b[1;32m     68\u001b[0m \u001b[0;34m\u001b[0m\u001b[0m\n\u001b[0;32m---> 69\u001b[0;31m         \u001b[0;32mreturn\u001b[0m \u001b[0mmethod\u001b[0m\u001b[0;34m(\u001b[0m\u001b[0mself\u001b[0m\u001b[0;34m,\u001b[0m \u001b[0mother\u001b[0m\u001b[0;34m)\u001b[0m\u001b[0;34m\u001b[0m\u001b[0;34m\u001b[0m\u001b[0m\n\u001b[0m\u001b[1;32m     70\u001b[0m \u001b[0;34m\u001b[0m\u001b[0m\n\u001b[1;32m     71\u001b[0m     \u001b[0;32mreturn\u001b[0m \u001b[0mnew_method\u001b[0m\u001b[0;34m\u001b[0m\u001b[0;34m\u001b[0m\u001b[0m\n",
            "\u001b[0;32m/usr/local/lib/python3.8/dist-packages/pandas/core/arraylike.py\u001b[0m in \u001b[0;36m__eq__\u001b[0;34m(self, other)\u001b[0m\n\u001b[1;32m     30\u001b[0m     \u001b[0;34m@\u001b[0m\u001b[0munpack_zerodim_and_defer\u001b[0m\u001b[0;34m(\u001b[0m\u001b[0;34m\"__eq__\"\u001b[0m\u001b[0;34m)\u001b[0m\u001b[0;34m\u001b[0m\u001b[0;34m\u001b[0m\u001b[0m\n\u001b[1;32m     31\u001b[0m     \u001b[0;32mdef\u001b[0m \u001b[0m__eq__\u001b[0m\u001b[0;34m(\u001b[0m\u001b[0mself\u001b[0m\u001b[0;34m,\u001b[0m \u001b[0mother\u001b[0m\u001b[0;34m)\u001b[0m\u001b[0;34m:\u001b[0m\u001b[0;34m\u001b[0m\u001b[0;34m\u001b[0m\u001b[0m\n\u001b[0;32m---> 32\u001b[0;31m         \u001b[0;32mreturn\u001b[0m \u001b[0mself\u001b[0m\u001b[0;34m.\u001b[0m\u001b[0m_cmp_method\u001b[0m\u001b[0;34m(\u001b[0m\u001b[0mother\u001b[0m\u001b[0;34m,\u001b[0m \u001b[0moperator\u001b[0m\u001b[0;34m.\u001b[0m\u001b[0meq\u001b[0m\u001b[0;34m)\u001b[0m\u001b[0;34m\u001b[0m\u001b[0;34m\u001b[0m\u001b[0m\n\u001b[0m\u001b[1;32m     33\u001b[0m \u001b[0;34m\u001b[0m\u001b[0m\n\u001b[1;32m     34\u001b[0m     \u001b[0;34m@\u001b[0m\u001b[0munpack_zerodim_and_defer\u001b[0m\u001b[0;34m(\u001b[0m\u001b[0;34m\"__ne__\"\u001b[0m\u001b[0;34m)\u001b[0m\u001b[0;34m\u001b[0m\u001b[0;34m\u001b[0m\u001b[0m\n",
            "\u001b[0;32m/usr/local/lib/python3.8/dist-packages/pandas/core/series.py\u001b[0m in \u001b[0;36m_cmp_method\u001b[0;34m(self, other, op)\u001b[0m\n\u001b[1;32m   5500\u001b[0m \u001b[0;34m\u001b[0m\u001b[0m\n\u001b[1;32m   5501\u001b[0m         \u001b[0;32mwith\u001b[0m \u001b[0mnp\u001b[0m\u001b[0;34m.\u001b[0m\u001b[0merrstate\u001b[0m\u001b[0;34m(\u001b[0m\u001b[0mall\u001b[0m\u001b[0;34m=\u001b[0m\u001b[0;34m\"ignore\"\u001b[0m\u001b[0;34m)\u001b[0m\u001b[0;34m:\u001b[0m\u001b[0;34m\u001b[0m\u001b[0;34m\u001b[0m\u001b[0m\n\u001b[0;32m-> 5502\u001b[0;31m             \u001b[0mres_values\u001b[0m \u001b[0;34m=\u001b[0m \u001b[0mops\u001b[0m\u001b[0;34m.\u001b[0m\u001b[0mcomparison_op\u001b[0m\u001b[0;34m(\u001b[0m\u001b[0mlvalues\u001b[0m\u001b[0;34m,\u001b[0m \u001b[0mrvalues\u001b[0m\u001b[0;34m,\u001b[0m \u001b[0mop\u001b[0m\u001b[0;34m)\u001b[0m\u001b[0;34m\u001b[0m\u001b[0;34m\u001b[0m\u001b[0m\n\u001b[0m\u001b[1;32m   5503\u001b[0m \u001b[0;34m\u001b[0m\u001b[0m\n\u001b[1;32m   5504\u001b[0m         \u001b[0;32mreturn\u001b[0m \u001b[0mself\u001b[0m\u001b[0;34m.\u001b[0m\u001b[0m_construct_result\u001b[0m\u001b[0;34m(\u001b[0m\u001b[0mres_values\u001b[0m\u001b[0;34m,\u001b[0m \u001b[0mname\u001b[0m\u001b[0;34m=\u001b[0m\u001b[0mres_name\u001b[0m\u001b[0;34m)\u001b[0m\u001b[0;34m\u001b[0m\u001b[0;34m\u001b[0m\u001b[0m\n",
            "\u001b[0;32m/usr/local/lib/python3.8/dist-packages/pandas/core/ops/array_ops.py\u001b[0m in \u001b[0;36mcomparison_op\u001b[0;34m(left, right, op)\u001b[0m\n\u001b[1;32m    282\u001b[0m \u001b[0;34m\u001b[0m\u001b[0m\n\u001b[1;32m    283\u001b[0m     \u001b[0;32melif\u001b[0m \u001b[0mis_object_dtype\u001b[0m\u001b[0;34m(\u001b[0m\u001b[0mlvalues\u001b[0m\u001b[0;34m.\u001b[0m\u001b[0mdtype\u001b[0m\u001b[0;34m)\u001b[0m \u001b[0;32mor\u001b[0m \u001b[0misinstance\u001b[0m\u001b[0;34m(\u001b[0m\u001b[0mrvalues\u001b[0m\u001b[0;34m,\u001b[0m \u001b[0mstr\u001b[0m\u001b[0;34m)\u001b[0m\u001b[0;34m:\u001b[0m\u001b[0;34m\u001b[0m\u001b[0;34m\u001b[0m\u001b[0m\n\u001b[0;32m--> 284\u001b[0;31m         \u001b[0mres_values\u001b[0m \u001b[0;34m=\u001b[0m \u001b[0mcomp_method_OBJECT_ARRAY\u001b[0m\u001b[0;34m(\u001b[0m\u001b[0mop\u001b[0m\u001b[0;34m,\u001b[0m \u001b[0mlvalues\u001b[0m\u001b[0;34m,\u001b[0m \u001b[0mrvalues\u001b[0m\u001b[0;34m)\u001b[0m\u001b[0;34m\u001b[0m\u001b[0;34m\u001b[0m\u001b[0m\n\u001b[0m\u001b[1;32m    285\u001b[0m \u001b[0;34m\u001b[0m\u001b[0m\n\u001b[1;32m    286\u001b[0m     \u001b[0;32melse\u001b[0m\u001b[0;34m:\u001b[0m\u001b[0;34m\u001b[0m\u001b[0;34m\u001b[0m\u001b[0m\n",
            "\u001b[0;32m/usr/local/lib/python3.8/dist-packages/pandas/core/ops/array_ops.py\u001b[0m in \u001b[0;36mcomp_method_OBJECT_ARRAY\u001b[0;34m(op, x, y)\u001b[0m\n\u001b[1;32m     71\u001b[0m         \u001b[0mresult\u001b[0m \u001b[0;34m=\u001b[0m \u001b[0mlibops\u001b[0m\u001b[0;34m.\u001b[0m\u001b[0mvec_compare\u001b[0m\u001b[0;34m(\u001b[0m\u001b[0mx\u001b[0m\u001b[0;34m.\u001b[0m\u001b[0mravel\u001b[0m\u001b[0;34m(\u001b[0m\u001b[0;34m)\u001b[0m\u001b[0;34m,\u001b[0m \u001b[0my\u001b[0m\u001b[0;34m.\u001b[0m\u001b[0mravel\u001b[0m\u001b[0;34m(\u001b[0m\u001b[0;34m)\u001b[0m\u001b[0;34m,\u001b[0m \u001b[0mop\u001b[0m\u001b[0;34m)\u001b[0m\u001b[0;34m\u001b[0m\u001b[0;34m\u001b[0m\u001b[0m\n\u001b[1;32m     72\u001b[0m     \u001b[0;32melse\u001b[0m\u001b[0;34m:\u001b[0m\u001b[0;34m\u001b[0m\u001b[0;34m\u001b[0m\u001b[0m\n\u001b[0;32m---> 73\u001b[0;31m         \u001b[0mresult\u001b[0m \u001b[0;34m=\u001b[0m \u001b[0mlibops\u001b[0m\u001b[0;34m.\u001b[0m\u001b[0mscalar_compare\u001b[0m\u001b[0;34m(\u001b[0m\u001b[0mx\u001b[0m\u001b[0;34m.\u001b[0m\u001b[0mravel\u001b[0m\u001b[0;34m(\u001b[0m\u001b[0;34m)\u001b[0m\u001b[0;34m,\u001b[0m \u001b[0my\u001b[0m\u001b[0;34m,\u001b[0m \u001b[0mop\u001b[0m\u001b[0;34m)\u001b[0m\u001b[0;34m\u001b[0m\u001b[0;34m\u001b[0m\u001b[0m\n\u001b[0m\u001b[1;32m     74\u001b[0m     \u001b[0;32mreturn\u001b[0m \u001b[0mresult\u001b[0m\u001b[0;34m.\u001b[0m\u001b[0mreshape\u001b[0m\u001b[0;34m(\u001b[0m\u001b[0mx\u001b[0m\u001b[0;34m.\u001b[0m\u001b[0mshape\u001b[0m\u001b[0;34m)\u001b[0m\u001b[0;34m\u001b[0m\u001b[0;34m\u001b[0m\u001b[0m\n\u001b[1;32m     75\u001b[0m \u001b[0;34m\u001b[0m\u001b[0m\n",
            "\u001b[0;31mKeyboardInterrupt\u001b[0m: "
          ]
        }
      ]
    },
    {
      "cell_type": "code",
      "source": [
        "df[df['session_id']=\"3506996723\"]"
      ],
      "metadata": {
        "id": "gFe04xlPkKea"
      },
      "execution_count": null,
      "outputs": []
    },
    {
      "cell_type": "code",
      "source": [
        "result = pd.read_parquet('/content/drive/MyDrive/datathon - final/df_result2.parquet')\n",
        "result"
      ],
      "metadata": {
        "colab": {
          "base_uri": "https://localhost:8080/",
          "height": 329
        },
        "id": "lDIb9_j6pzqP",
        "outputId": "2bd6d079-1fd6-47bf-f5ee-46e371ccd2ec"
      },
      "execution_count": 48,
      "outputs": [
        {
          "output_type": "error",
          "ename": "KeyboardInterrupt",
          "evalue": "ignored",
          "traceback": [
            "\u001b[0;31m---------------------------------------------------------------------------\u001b[0m",
            "\u001b[0;31mKeyboardInterrupt\u001b[0m                         Traceback (most recent call last)",
            "\u001b[0;32m<ipython-input-48-0ab6c64c2300>\u001b[0m in \u001b[0;36m<module>\u001b[0;34m\u001b[0m\n\u001b[1;32m      1\u001b[0m \u001b[0mresult\u001b[0m \u001b[0;34m=\u001b[0m \u001b[0mpd\u001b[0m\u001b[0;34m.\u001b[0m\u001b[0mread_parquet\u001b[0m\u001b[0;34m(\u001b[0m\u001b[0;34m'/content/drive/MyDrive/datathon - final/df_result2.parquet'\u001b[0m\u001b[0;34m)\u001b[0m\u001b[0;34m\u001b[0m\u001b[0;34m\u001b[0m\u001b[0m\n\u001b[0;32m----> 2\u001b[0;31m \u001b[0mresult\u001b[0m\u001b[0;34m\u001b[0m\u001b[0;34m\u001b[0m\u001b[0m\n\u001b[0m",
            "\u001b[0;32m/usr/local/lib/python3.8/dist-packages/IPython/core/displayhook.py\u001b[0m in \u001b[0;36m__call__\u001b[0;34m(self, result)\u001b[0m\n\u001b[1;32m    266\u001b[0m                 \u001b[0mself\u001b[0m\u001b[0;34m.\u001b[0m\u001b[0mwrite_format_data\u001b[0m\u001b[0;34m(\u001b[0m\u001b[0mformat_dict\u001b[0m\u001b[0;34m,\u001b[0m \u001b[0mmd_dict\u001b[0m\u001b[0;34m)\u001b[0m\u001b[0;34m\u001b[0m\u001b[0;34m\u001b[0m\u001b[0m\n\u001b[1;32m    267\u001b[0m                 \u001b[0mself\u001b[0m\u001b[0;34m.\u001b[0m\u001b[0mlog_output\u001b[0m\u001b[0;34m(\u001b[0m\u001b[0mformat_dict\u001b[0m\u001b[0;34m)\u001b[0m\u001b[0;34m\u001b[0m\u001b[0;34m\u001b[0m\u001b[0m\n\u001b[0;32m--> 268\u001b[0;31m             \u001b[0mself\u001b[0m\u001b[0;34m.\u001b[0m\u001b[0mfinish_displayhook\u001b[0m\u001b[0;34m(\u001b[0m\u001b[0;34m)\u001b[0m\u001b[0;34m\u001b[0m\u001b[0;34m\u001b[0m\u001b[0m\n\u001b[0m\u001b[1;32m    269\u001b[0m \u001b[0;34m\u001b[0m\u001b[0m\n\u001b[1;32m    270\u001b[0m     \u001b[0;32mdef\u001b[0m \u001b[0mcull_cache\u001b[0m\u001b[0;34m(\u001b[0m\u001b[0mself\u001b[0m\u001b[0;34m)\u001b[0m\u001b[0;34m:\u001b[0m\u001b[0;34m\u001b[0m\u001b[0;34m\u001b[0m\u001b[0m\n",
            "\u001b[0;32m/usr/local/lib/python3.8/dist-packages/ipykernel/displayhook.py\u001b[0m in \u001b[0;36mfinish_displayhook\u001b[0;34m(self)\u001b[0m\n\u001b[1;32m     77\u001b[0m         \u001b[0msys\u001b[0m\u001b[0;34m.\u001b[0m\u001b[0mstderr\u001b[0m\u001b[0;34m.\u001b[0m\u001b[0mflush\u001b[0m\u001b[0;34m(\u001b[0m\u001b[0;34m)\u001b[0m\u001b[0;34m\u001b[0m\u001b[0;34m\u001b[0m\u001b[0m\n\u001b[1;32m     78\u001b[0m         \u001b[0;32mif\u001b[0m \u001b[0mself\u001b[0m\u001b[0;34m.\u001b[0m\u001b[0mmsg\u001b[0m\u001b[0;34m[\u001b[0m\u001b[0;34m'content'\u001b[0m\u001b[0;34m]\u001b[0m\u001b[0;34m[\u001b[0m\u001b[0;34m'data'\u001b[0m\u001b[0;34m]\u001b[0m\u001b[0;34m:\u001b[0m\u001b[0;34m\u001b[0m\u001b[0;34m\u001b[0m\u001b[0m\n\u001b[0;32m---> 79\u001b[0;31m             \u001b[0mself\u001b[0m\u001b[0;34m.\u001b[0m\u001b[0msession\u001b[0m\u001b[0;34m.\u001b[0m\u001b[0msend\u001b[0m\u001b[0;34m(\u001b[0m\u001b[0mself\u001b[0m\u001b[0;34m.\u001b[0m\u001b[0mpub_socket\u001b[0m\u001b[0;34m,\u001b[0m \u001b[0mself\u001b[0m\u001b[0;34m.\u001b[0m\u001b[0mmsg\u001b[0m\u001b[0;34m,\u001b[0m \u001b[0mident\u001b[0m\u001b[0;34m=\u001b[0m\u001b[0mself\u001b[0m\u001b[0;34m.\u001b[0m\u001b[0mtopic\u001b[0m\u001b[0;34m)\u001b[0m\u001b[0;34m\u001b[0m\u001b[0;34m\u001b[0m\u001b[0m\n\u001b[0m\u001b[1;32m     80\u001b[0m         \u001b[0mself\u001b[0m\u001b[0;34m.\u001b[0m\u001b[0mmsg\u001b[0m \u001b[0;34m=\u001b[0m \u001b[0;32mNone\u001b[0m\u001b[0;34m\u001b[0m\u001b[0;34m\u001b[0m\u001b[0m\n",
            "\u001b[0;32m/usr/local/lib/python3.8/dist-packages/jupyter_client/session.py\u001b[0m in \u001b[0;36msend\u001b[0;34m(self, stream, msg_or_type, content, parent, ident, buffers, track, header, metadata)\u001b[0m\n\u001b[1;32m    740\u001b[0m         \u001b[0;32mif\u001b[0m \u001b[0mself\u001b[0m\u001b[0;34m.\u001b[0m\u001b[0madapt_version\u001b[0m\u001b[0;34m:\u001b[0m\u001b[0;34m\u001b[0m\u001b[0;34m\u001b[0m\u001b[0m\n\u001b[1;32m    741\u001b[0m             \u001b[0mmsg\u001b[0m \u001b[0;34m=\u001b[0m \u001b[0madapt\u001b[0m\u001b[0;34m(\u001b[0m\u001b[0mmsg\u001b[0m\u001b[0;34m,\u001b[0m \u001b[0mself\u001b[0m\u001b[0;34m.\u001b[0m\u001b[0madapt_version\u001b[0m\u001b[0;34m)\u001b[0m\u001b[0;34m\u001b[0m\u001b[0;34m\u001b[0m\u001b[0m\n\u001b[0;32m--> 742\u001b[0;31m         \u001b[0mto_send\u001b[0m \u001b[0;34m=\u001b[0m \u001b[0mself\u001b[0m\u001b[0;34m.\u001b[0m\u001b[0mserialize\u001b[0m\u001b[0;34m(\u001b[0m\u001b[0mmsg\u001b[0m\u001b[0;34m,\u001b[0m \u001b[0mident\u001b[0m\u001b[0;34m)\u001b[0m\u001b[0;34m\u001b[0m\u001b[0;34m\u001b[0m\u001b[0m\n\u001b[0m\u001b[1;32m    743\u001b[0m         \u001b[0mto_send\u001b[0m\u001b[0;34m.\u001b[0m\u001b[0mextend\u001b[0m\u001b[0;34m(\u001b[0m\u001b[0mbuffers\u001b[0m\u001b[0;34m)\u001b[0m\u001b[0;34m\u001b[0m\u001b[0;34m\u001b[0m\u001b[0m\n\u001b[1;32m    744\u001b[0m         \u001b[0mlongest\u001b[0m \u001b[0;34m=\u001b[0m \u001b[0mmax\u001b[0m\u001b[0;34m(\u001b[0m\u001b[0;34m[\u001b[0m \u001b[0mlen\u001b[0m\u001b[0;34m(\u001b[0m\u001b[0ms\u001b[0m\u001b[0;34m)\u001b[0m \u001b[0;32mfor\u001b[0m \u001b[0ms\u001b[0m \u001b[0;32min\u001b[0m \u001b[0mto_send\u001b[0m \u001b[0;34m]\u001b[0m\u001b[0;34m)\u001b[0m\u001b[0;34m\u001b[0m\u001b[0;34m\u001b[0m\u001b[0m\n",
            "\u001b[0;32m/usr/local/lib/python3.8/dist-packages/jupyter_client/session.py\u001b[0m in \u001b[0;36mserialize\u001b[0;34m(self, msg, ident)\u001b[0m\n\u001b[1;32m    628\u001b[0m             \u001b[0mcontent\u001b[0m \u001b[0;34m=\u001b[0m \u001b[0mself\u001b[0m\u001b[0;34m.\u001b[0m\u001b[0mnone\u001b[0m\u001b[0;34m\u001b[0m\u001b[0;34m\u001b[0m\u001b[0m\n\u001b[1;32m    629\u001b[0m         \u001b[0;32melif\u001b[0m \u001b[0misinstance\u001b[0m\u001b[0;34m(\u001b[0m\u001b[0mcontent\u001b[0m\u001b[0;34m,\u001b[0m \u001b[0mdict\u001b[0m\u001b[0;34m)\u001b[0m\u001b[0;34m:\u001b[0m\u001b[0;34m\u001b[0m\u001b[0;34m\u001b[0m\u001b[0m\n\u001b[0;32m--> 630\u001b[0;31m             \u001b[0mcontent\u001b[0m \u001b[0;34m=\u001b[0m \u001b[0mself\u001b[0m\u001b[0;34m.\u001b[0m\u001b[0mpack\u001b[0m\u001b[0;34m(\u001b[0m\u001b[0mcontent\u001b[0m\u001b[0;34m)\u001b[0m\u001b[0;34m\u001b[0m\u001b[0;34m\u001b[0m\u001b[0m\n\u001b[0m\u001b[1;32m    631\u001b[0m         \u001b[0;32melif\u001b[0m \u001b[0misinstance\u001b[0m\u001b[0;34m(\u001b[0m\u001b[0mcontent\u001b[0m\u001b[0;34m,\u001b[0m \u001b[0mbytes\u001b[0m\u001b[0;34m)\u001b[0m\u001b[0;34m:\u001b[0m\u001b[0;34m\u001b[0m\u001b[0;34m\u001b[0m\u001b[0m\n\u001b[1;32m    632\u001b[0m             \u001b[0;31m# content is already packed, as in a relayed message\u001b[0m\u001b[0;34m\u001b[0m\u001b[0;34m\u001b[0m\u001b[0;34m\u001b[0m\u001b[0m\n",
            "\u001b[0;32m/usr/local/lib/python3.8/dist-packages/jupyter_client/session.py\u001b[0m in \u001b[0;36m<lambda>\u001b[0;34m(obj)\u001b[0m\n\u001b[1;32m     80\u001b[0m \u001b[0;31m# allow unicode\u001b[0m\u001b[0;34m\u001b[0m\u001b[0;34m\u001b[0m\u001b[0;34m\u001b[0m\u001b[0m\n\u001b[1;32m     81\u001b[0m \u001b[0;31m# disallow nan, because it's not actually valid JSON\u001b[0m\u001b[0;34m\u001b[0m\u001b[0;34m\u001b[0m\u001b[0;34m\u001b[0m\u001b[0m\n\u001b[0;32m---> 82\u001b[0;31m json_packer = lambda obj: jsonapi.dumps(obj, default=date_default,\n\u001b[0m\u001b[1;32m     83\u001b[0m     \u001b[0mensure_ascii\u001b[0m\u001b[0;34m=\u001b[0m\u001b[0;32mFalse\u001b[0m\u001b[0;34m,\u001b[0m \u001b[0mallow_nan\u001b[0m\u001b[0;34m=\u001b[0m\u001b[0;32mFalse\u001b[0m\u001b[0;34m,\u001b[0m\u001b[0;34m\u001b[0m\u001b[0;34m\u001b[0m\u001b[0m\n\u001b[1;32m     84\u001b[0m )\n",
            "\u001b[0;32m/usr/local/lib/python3.8/dist-packages/zmq/utils/jsonapi.py\u001b[0m in \u001b[0;36mdumps\u001b[0;34m(o, **kwargs)\u001b[0m\n\u001b[1;32m     22\u001b[0m     \u001b[0mKeyword\u001b[0m \u001b[0marguments\u001b[0m \u001b[0mare\u001b[0m \u001b[0mpassed\u001b[0m \u001b[0malong\u001b[0m \u001b[0mto\u001b[0m \u001b[0;34m:\u001b[0m\u001b[0mpy\u001b[0m\u001b[0;34m:\u001b[0m\u001b[0mfunc\u001b[0m\u001b[0;34m:\u001b[0m\u001b[0;31m`\u001b[0m\u001b[0mjson\u001b[0m\u001b[0;34m.\u001b[0m\u001b[0mdumps\u001b[0m\u001b[0;31m`\u001b[0m\u001b[0;34m.\u001b[0m\u001b[0;34m\u001b[0m\u001b[0;34m\u001b[0m\u001b[0m\n\u001b[1;32m     23\u001b[0m     \"\"\"\n\u001b[0;32m---> 24\u001b[0;31m     \u001b[0;32mreturn\u001b[0m \u001b[0mjson\u001b[0m\u001b[0;34m.\u001b[0m\u001b[0mdumps\u001b[0m\u001b[0;34m(\u001b[0m\u001b[0mo\u001b[0m\u001b[0;34m,\u001b[0m \u001b[0;34m**\u001b[0m\u001b[0mkwargs\u001b[0m\u001b[0;34m)\u001b[0m\u001b[0;34m.\u001b[0m\u001b[0mencode\u001b[0m\u001b[0;34m(\u001b[0m\u001b[0;34m\"utf8\"\u001b[0m\u001b[0;34m)\u001b[0m\u001b[0;34m\u001b[0m\u001b[0;34m\u001b[0m\u001b[0m\n\u001b[0m\u001b[1;32m     25\u001b[0m \u001b[0;34m\u001b[0m\u001b[0m\n\u001b[1;32m     26\u001b[0m \u001b[0;34m\u001b[0m\u001b[0m\n",
            "\u001b[0;32m/usr/lib/python3.8/json/__init__.py\u001b[0m in \u001b[0;36mdumps\u001b[0;34m(obj, skipkeys, ensure_ascii, check_circular, allow_nan, cls, indent, separators, default, sort_keys, **kw)\u001b[0m\n\u001b[1;32m    232\u001b[0m     \u001b[0;32mif\u001b[0m \u001b[0mcls\u001b[0m \u001b[0;32mis\u001b[0m \u001b[0;32mNone\u001b[0m\u001b[0;34m:\u001b[0m\u001b[0;34m\u001b[0m\u001b[0;34m\u001b[0m\u001b[0m\n\u001b[1;32m    233\u001b[0m         \u001b[0mcls\u001b[0m \u001b[0;34m=\u001b[0m \u001b[0mJSONEncoder\u001b[0m\u001b[0;34m\u001b[0m\u001b[0;34m\u001b[0m\u001b[0m\n\u001b[0;32m--> 234\u001b[0;31m     return cls(\n\u001b[0m\u001b[1;32m    235\u001b[0m         \u001b[0mskipkeys\u001b[0m\u001b[0;34m=\u001b[0m\u001b[0mskipkeys\u001b[0m\u001b[0;34m,\u001b[0m \u001b[0mensure_ascii\u001b[0m\u001b[0;34m=\u001b[0m\u001b[0mensure_ascii\u001b[0m\u001b[0;34m,\u001b[0m\u001b[0;34m\u001b[0m\u001b[0;34m\u001b[0m\u001b[0m\n\u001b[1;32m    236\u001b[0m         \u001b[0mcheck_circular\u001b[0m\u001b[0;34m=\u001b[0m\u001b[0mcheck_circular\u001b[0m\u001b[0;34m,\u001b[0m \u001b[0mallow_nan\u001b[0m\u001b[0;34m=\u001b[0m\u001b[0mallow_nan\u001b[0m\u001b[0;34m,\u001b[0m \u001b[0mindent\u001b[0m\u001b[0;34m=\u001b[0m\u001b[0mindent\u001b[0m\u001b[0;34m,\u001b[0m\u001b[0;34m\u001b[0m\u001b[0;34m\u001b[0m\u001b[0m\n",
            "\u001b[0;32m/usr/lib/python3.8/json/encoder.py\u001b[0m in \u001b[0;36mencode\u001b[0;34m(self, o)\u001b[0m\n\u001b[1;32m    197\u001b[0m         \u001b[0;31m# exceptions aren't as detailed.  The list call should be roughly\u001b[0m\u001b[0;34m\u001b[0m\u001b[0;34m\u001b[0m\u001b[0;34m\u001b[0m\u001b[0m\n\u001b[1;32m    198\u001b[0m         \u001b[0;31m# equivalent to the PySequence_Fast that ''.join() would do.\u001b[0m\u001b[0;34m\u001b[0m\u001b[0;34m\u001b[0m\u001b[0;34m\u001b[0m\u001b[0m\n\u001b[0;32m--> 199\u001b[0;31m         \u001b[0mchunks\u001b[0m \u001b[0;34m=\u001b[0m \u001b[0mself\u001b[0m\u001b[0;34m.\u001b[0m\u001b[0miterencode\u001b[0m\u001b[0;34m(\u001b[0m\u001b[0mo\u001b[0m\u001b[0;34m,\u001b[0m \u001b[0m_one_shot\u001b[0m\u001b[0;34m=\u001b[0m\u001b[0;32mTrue\u001b[0m\u001b[0;34m)\u001b[0m\u001b[0;34m\u001b[0m\u001b[0;34m\u001b[0m\u001b[0m\n\u001b[0m\u001b[1;32m    200\u001b[0m         \u001b[0;32mif\u001b[0m \u001b[0;32mnot\u001b[0m \u001b[0misinstance\u001b[0m\u001b[0;34m(\u001b[0m\u001b[0mchunks\u001b[0m\u001b[0;34m,\u001b[0m \u001b[0;34m(\u001b[0m\u001b[0mlist\u001b[0m\u001b[0;34m,\u001b[0m \u001b[0mtuple\u001b[0m\u001b[0;34m)\u001b[0m\u001b[0;34m)\u001b[0m\u001b[0;34m:\u001b[0m\u001b[0;34m\u001b[0m\u001b[0;34m\u001b[0m\u001b[0m\n\u001b[1;32m    201\u001b[0m             \u001b[0mchunks\u001b[0m \u001b[0;34m=\u001b[0m \u001b[0mlist\u001b[0m\u001b[0;34m(\u001b[0m\u001b[0mchunks\u001b[0m\u001b[0;34m)\u001b[0m\u001b[0;34m\u001b[0m\u001b[0;34m\u001b[0m\u001b[0m\n",
            "\u001b[0;32m/usr/lib/python3.8/json/encoder.py\u001b[0m in \u001b[0;36miterencode\u001b[0;34m(self, o, _one_shot)\u001b[0m\n\u001b[1;32m    255\u001b[0m                 \u001b[0mself\u001b[0m\u001b[0;34m.\u001b[0m\u001b[0mkey_separator\u001b[0m\u001b[0;34m,\u001b[0m \u001b[0mself\u001b[0m\u001b[0;34m.\u001b[0m\u001b[0mitem_separator\u001b[0m\u001b[0;34m,\u001b[0m \u001b[0mself\u001b[0m\u001b[0;34m.\u001b[0m\u001b[0msort_keys\u001b[0m\u001b[0;34m,\u001b[0m\u001b[0;34m\u001b[0m\u001b[0;34m\u001b[0m\u001b[0m\n\u001b[1;32m    256\u001b[0m                 self.skipkeys, _one_shot)\n\u001b[0;32m--> 257\u001b[0;31m         \u001b[0;32mreturn\u001b[0m \u001b[0m_iterencode\u001b[0m\u001b[0;34m(\u001b[0m\u001b[0mo\u001b[0m\u001b[0;34m,\u001b[0m \u001b[0;36m0\u001b[0m\u001b[0;34m)\u001b[0m\u001b[0;34m\u001b[0m\u001b[0;34m\u001b[0m\u001b[0m\n\u001b[0m\u001b[1;32m    258\u001b[0m \u001b[0;34m\u001b[0m\u001b[0m\n\u001b[1;32m    259\u001b[0m def _make_iterencode(markers, _default, _encoder, _indent, _floatstr,\n",
            "\u001b[0;31mKeyboardInterrupt\u001b[0m: "
          ]
        }
      ]
    },
    {
      "cell_type": "code",
      "source": [],
      "metadata": {
        "id": "yATnynJwp6k5"
      },
      "execution_count": null,
      "outputs": []
    }
  ]
}